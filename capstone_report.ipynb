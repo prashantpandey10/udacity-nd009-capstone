{
 "cells": [
  {
   "cell_type": "markdown",
   "metadata": {},
   "source": [
    "# Machine Learning Engineer Nanodegree\n",
    "## Capstone Project\n",
    
    "### Project Overview\n",
    "Lendingclub.com is one of the leading online p2p lending platforms, where lenders are matched directly to borrowers. Since its inception in 2007, the total amount of loan reaches almost 8 billion US dollars. There are two ways to invest on lendingclub.com: automatic investing and manual investing. In automatic investing, investors specify the amount of risk they are willing to take, and lendingclub automatically invest their money in a mixed portfolio constructed using their algorithms given the risk. For manual investing, investors can browse the notes and the borrowers' information, and select which notes and how much amount they would like to invest. Furthermore, investors don't necessarily have to browser all the notes, instead they can download those data, use their own algorithm to identify which borrowers to lend their money and process them in a batch fashion. Lendingclub provides historical loan information so that one can build machine learning algorithms to predict loan performances. This project aims at identifying loans that may default so that borrowers can avoid those loans using manual investing. \n",
    "\n",
    "There have been many similar efforts at predicting defaults using lendingclub data [1-7]. Although the goal of predicting default is the same, there are differences in feature selection, learning algorithms employed and metrics used for evaluating the model performance. In particular, some of the high performing models (for example, Ref [1-2]) incorrectly used fico scores that were produced after a loan is default, thus the results are highly misleading. Other analysis [3-7] select few features and ignore most of features available in the lendingclub dataset. The most comprehensive feature engineering effort comes from Ref. [8], however, they use a different dataset and their goal is to report whether a loan defaults and how much is the loss if a loan defaults. \n",
    "\n",
    "### Problem Statement\n",
    "In this project, I propose to predict whether a borrower will default so that investors can avoid those borrowers using manual investing feature provided by lendingclub. This, however, does not necessarily lead to highest return on investment (ROI) because by completely avoiding potential defaults, one also avoid riskier loans that may lead to higher ROI even though they default at some point in the future. In order to maximize ROI, one needs to optimize ROI instead. In this project, we work on the simpler problem, that is to predict loan defaults.\n",
    "\n",
    "Predicting loan defaults is a binary classification problem: a borrower either default at some time during the loan term or finish payment. In reality, the majority of lendingclub loans are between default and full payment, that is, these loans are on-going. Since investors can only invest in lendingclub notes at initial stage, which means investor can not jump into on-going loans, those on-going loans are irrelevant to our discussion. A binary classification problem is a classic machine learning problem with multiple machine learning algorithms to choose from, has quantitative metrics, such as accuracy, precision, f1 score, etc. to measure the results, and is replicable with the same data and machine learning model.\n",
    "\n",
    "\n",
    "### Metrics\n",
    "The machine learning task here is an imbalanced two-classed classification, with loan default represents around 20% of all data. Typically f1-score is used for imbalanced classification, however I found that there are two very different f1-scores, depends on which class one is predicting. Instead here I choose area under curve (AUC) as metrics to evaluate learning performance. According to Ref. [9], AUC is a common evaluation metric for binary classification problems. Consider a plot of the true positive rate vs the false positive rate as the threshold value for classifying an item as 0 or is increased from 0 to 1: if the classifier is very good, the true positive rate will increase quickly and the area under the curve will be close to 1. If the classifier is no better than random guessing, the true positive rate will increase linearly with the false positive rate and the area under the curve will be around 0.5. One characteristic of the AUC is that it is independent of the fraction of the test population which is class 0 or class 1: this makes the AUC useful for evaluating the performance of classifiers on unbalanced data sets."
   ]
  },
  {
   "cell_type": "markdown",
   "metadata": {},
   "source": [
    "## II. Analysis\n",
    "\n",
    "### Data Exploration\n",
    "The dataset comes from lendingclub website `DOWNLOAD LOAN DATA` section: https://www.lendingclub.com/info/download-data.action. According to the website, these files contain complete loan data for all loans issued from 2007 through 2016 Q3. In the following, I will load the dataset and present basic information and statistics."
   ]
  },
  {
   "cell_type": "code",
   "execution_count": 3,
   "metadata": {
    "collapsed": false
   },
   "outputs": [],
   "source": [
    "import pandas as pd\n",
    "import numpy as np\n",
    "\n",
    "import seaborn as sns\n",
    "import matplotlib.pyplot as plt\n",
    "%matplotlib inline\n",
    "\n",
    "pd.options.display.max_rows = 200\n",
    "pd.options.display.max_columns = 200\n",
    "\n",
    "random_state = 46"
   ]
  },
  {
   "cell_type": "code",
   "execution_count": 4,
   "metadata": {
    "collapsed": false
   },
   "outputs": [],
   "source": [
    "# load data\n",
    "RawData = pd.read_csv('data/LoanStats3a_securev1.csv', header=1)\n",
    "for f in (['data/LoanStats3b_securev1.csv', 'data/LoanStats3c_securev1.csv', 'data/LoanStats3d_securev1.csv', \n",
    "             'data/LoanStats_securev1_2016Q1.csv', 'data/LoanStats_securev1_2016Q2.csv', \n",
    "              'data/LoanStats_securev1_2016Q3.csv']):\n",
    "    tmp = pd.read_csv(f, header=1, low_memory=False)\n",
    "    RawData = RawData.append(tmp)"
   ]
  },
  {
   "cell_type": "code",
   "execution_count": 5,
   "metadata": {
    "collapsed": false
   },
   "outputs": [
    {
     "name": "stdout",
     "output_type": "stream",
     "text": [
      "(1218316, 115)\n"
     ]
    }
   ],
   "source": [
    "print RawData.shape"
   ]
  },
  {
   "cell_type": "code",
   "execution_count": 6,
   "metadata": {
    "collapsed": false
   },
   "outputs": [
    {
     "data": {
      "text/html": [
       "<div>\n",
       "<table border=\"1\" class=\"dataframe\">\n",
       "  <thead>\n",
       "    <tr style=\"text-align: right;\">\n",
       "      <th></th>\n",
       "      <th>id</th>\n",
       "      <th>member_id</th>\n",
       "      <th>loan_amnt</th>\n",
       "      <th>funded_amnt</th>\n",
       "      <th>funded_amnt_inv</th>\n",
       "      <th>term</th>\n",
       "      <th>int_rate</th>\n",
       "      <th>installment</th>\n",
       "      <th>grade</th>\n",
       "      <th>sub_grade</th>\n",
       "      <th>emp_title</th>\n",
       "      <th>emp_length</th>\n",
       "      <th>home_ownership</th>\n",
       "      <th>annual_inc</th>\n",
       "      <th>verification_status</th>\n",
       "      <th>issue_d</th>\n",
       "      <th>loan_status</th>\n",
       "      <th>pymnt_plan</th>\n",
       "      <th>url</th>\n",
       "      <th>desc</th>\n",
       "      <th>purpose</th>\n",
       "      <th>title</th>\n",
       "      <th>zip_code</th>\n",
       "      <th>addr_state</th>\n",
       "      <th>dti</th>\n",
       "      <th>delinq_2yrs</th>\n",
       "      <th>earliest_cr_line</th>\n",
       "      <th>fico_range_low</th>\n",
       "      <th>fico_range_high</th>\n",
       "      <th>inq_last_6mths</th>\n",
       "      <th>mths_since_last_delinq</th>\n",
       "      <th>mths_since_last_record</th>\n",
       "      <th>open_acc</th>\n",
       "      <th>pub_rec</th>\n",
       "      <th>revol_bal</th>\n",
       "      <th>revol_util</th>\n",
       "      <th>total_acc</th>\n",
       "      <th>initial_list_status</th>\n",
       "      <th>out_prncp</th>\n",
       "      <th>out_prncp_inv</th>\n",
       "      <th>total_pymnt</th>\n",
       "      <th>total_pymnt_inv</th>\n",
       "      <th>total_rec_prncp</th>\n",
       "      <th>total_rec_int</th>\n",
       "      <th>total_rec_late_fee</th>\n",
       "      <th>recoveries</th>\n",
       "      <th>collection_recovery_fee</th>\n",
       "      <th>last_pymnt_d</th>\n",
       "      <th>last_pymnt_amnt</th>\n",
       "      <th>next_pymnt_d</th>\n",
       "      <th>last_credit_pull_d</th>\n",
       "      <th>last_fico_range_high</th>\n",
       "      <th>last_fico_range_low</th>\n",
       "      <th>collections_12_mths_ex_med</th>\n",
       "      <th>mths_since_last_major_derog</th>\n",
       "      <th>policy_code</th>\n",
       "      <th>application_type</th>\n",
       "      <th>annual_inc_joint</th>\n",
       "      <th>dti_joint</th>\n",
       "      <th>verification_status_joint</th>\n",
       "      <th>acc_now_delinq</th>\n",
       "      <th>tot_coll_amt</th>\n",
       "      <th>tot_cur_bal</th>\n",
       "      <th>open_acc_6m</th>\n",
       "      <th>open_il_6m</th>\n",
       "      <th>open_il_12m</th>\n",
       "      <th>open_il_24m</th>\n",
       "      <th>mths_since_rcnt_il</th>\n",
       "      <th>total_bal_il</th>\n",
       "      <th>il_util</th>\n",
       "      <th>open_rv_12m</th>\n",
       "      <th>open_rv_24m</th>\n",
       "      <th>max_bal_bc</th>\n",
       "      <th>all_util</th>\n",
       "      <th>total_rev_hi_lim</th>\n",
       "      <th>inq_fi</th>\n",
       "      <th>total_cu_tl</th>\n",
       "      <th>inq_last_12m</th>\n",
       "      <th>acc_open_past_24mths</th>\n",
       "      <th>avg_cur_bal</th>\n",
       "      <th>bc_open_to_buy</th>\n",
       "      <th>bc_util</th>\n",
       "      <th>chargeoff_within_12_mths</th>\n",
       "      <th>delinq_amnt</th>\n",
       "      <th>mo_sin_old_il_acct</th>\n",
       "      <th>mo_sin_old_rev_tl_op</th>\n",
       "      <th>mo_sin_rcnt_rev_tl_op</th>\n",
       "      <th>mo_sin_rcnt_tl</th>\n",
       "      <th>mort_acc</th>\n",
       "      <th>mths_since_recent_bc</th>\n",
       "      <th>mths_since_recent_bc_dlq</th>\n",
       "      <th>mths_since_recent_inq</th>\n",
       "      <th>mths_since_recent_revol_delinq</th>\n",
       "      <th>num_accts_ever_120_pd</th>\n",
       "      <th>num_actv_bc_tl</th>\n",
       "      <th>num_actv_rev_tl</th>\n",
       "      <th>num_bc_sats</th>\n",
       "      <th>num_bc_tl</th>\n",
       "      <th>num_il_tl</th>\n",
       "      <th>num_op_rev_tl</th>\n",
       "      <th>num_rev_accts</th>\n",
       "      <th>num_rev_tl_bal_gt_0</th>\n",
       "      <th>num_sats</th>\n",
       "      <th>num_tl_120dpd_2m</th>\n",
       "      <th>num_tl_30dpd</th>\n",
       "      <th>num_tl_90g_dpd_24m</th>\n",
       "      <th>num_tl_op_past_12m</th>\n",
       "      <th>pct_tl_nvr_dlq</th>\n",
       "      <th>percent_bc_gt_75</th>\n",
       "      <th>pub_rec_bankruptcies</th>\n",
       "      <th>tax_liens</th>\n",
       "      <th>tot_hi_cred_lim</th>\n",
       "      <th>total_bal_ex_mort</th>\n",
       "      <th>total_bc_limit</th>\n",
       "      <th>total_il_high_credit_limit</th>\n",
       "    </tr>\n",
       "  </thead>\n",
       "  <tbody>\n",
       "    <tr>\n",
       "      <th>0</th>\n",
       "      <td>1077501</td>\n",
       "      <td>1296599</td>\n",
       "      <td>5000</td>\n",
       "      <td>5000</td>\n",
       "      <td>4975</td>\n",
       "      <td>36 months</td>\n",
       "      <td>10.65%</td>\n",
       "      <td>162.87</td>\n",
       "      <td>B</td>\n",
       "      <td>B2</td>\n",
       "      <td>NaN</td>\n",
       "      <td>10+ years</td>\n",
       "      <td>RENT</td>\n",
       "      <td>24000</td>\n",
       "      <td>Verified</td>\n",
       "      <td>Dec-2011</td>\n",
       "      <td>Fully Paid</td>\n",
       "      <td>n</td>\n",
       "      <td>https://lendingclub.com/browse/loanDetail.acti...</td>\n",
       "      <td>Borrower added on 12/22/11 &gt; I need to upgra...</td>\n",
       "      <td>credit_card</td>\n",
       "      <td>Computer</td>\n",
       "      <td>860xx</td>\n",
       "      <td>AZ</td>\n",
       "      <td>27.65</td>\n",
       "      <td>0</td>\n",
       "      <td>Jan-1985</td>\n",
       "      <td>735</td>\n",
       "      <td>739</td>\n",
       "      <td>1</td>\n",
       "      <td>NaN</td>\n",
       "      <td>NaN</td>\n",
       "      <td>3</td>\n",
       "      <td>0</td>\n",
       "      <td>13648</td>\n",
       "      <td>83.7%</td>\n",
       "      <td>9</td>\n",
       "      <td>f</td>\n",
       "      <td>0</td>\n",
       "      <td>0</td>\n",
       "      <td>5863.155187</td>\n",
       "      <td>5833.84</td>\n",
       "      <td>5000</td>\n",
       "      <td>863.16</td>\n",
       "      <td>0</td>\n",
       "      <td>0</td>\n",
       "      <td>0</td>\n",
       "      <td>Jan-2015</td>\n",
       "      <td>171.62</td>\n",
       "      <td>NaN</td>\n",
       "      <td>Oct-2016</td>\n",
       "      <td>744</td>\n",
       "      <td>740</td>\n",
       "      <td>0</td>\n",
       "      <td>NaN</td>\n",
       "      <td>1</td>\n",
       "      <td>INDIVIDUAL</td>\n",
       "      <td>NaN</td>\n",
       "      <td>NaN</td>\n",
       "      <td>NaN</td>\n",
       "      <td>0</td>\n",
       "      <td>NaN</td>\n",
       "      <td>NaN</td>\n",
       "      <td>NaN</td>\n",
       "      <td>NaN</td>\n",
       "      <td>NaN</td>\n",
       "      <td>NaN</td>\n",
       "      <td>NaN</td>\n",
       "      <td>NaN</td>\n",
       "      <td>NaN</td>\n",
       "      <td>NaN</td>\n",
       "      <td>NaN</td>\n",
       "      <td>NaN</td>\n",
       "      <td>NaN</td>\n",
       "      <td>NaN</td>\n",
       "      <td>NaN</td>\n",
       "      <td>NaN</td>\n",
       "      <td>NaN</td>\n",
       "      <td>NaN</td>\n",
       "      <td>NaN</td>\n",
       "      <td>NaN</td>\n",
       "      <td>NaN</td>\n",
       "      <td>0</td>\n",
       "      <td>0</td>\n",
       "      <td>NaN</td>\n",
       "      <td>NaN</td>\n",
       "      <td>NaN</td>\n",
       "      <td>NaN</td>\n",
       "      <td>NaN</td>\n",
       "      <td>NaN</td>\n",
       "      <td>NaN</td>\n",
       "      <td>NaN</td>\n",
       "      <td>NaN</td>\n",
       "      <td>NaN</td>\n",
       "      <td>NaN</td>\n",
       "      <td>NaN</td>\n",
       "      <td>NaN</td>\n",
       "      <td>NaN</td>\n",
       "      <td>NaN</td>\n",
       "      <td>NaN</td>\n",
       "      <td>NaN</td>\n",
       "      <td>NaN</td>\n",
       "      <td>NaN</td>\n",
       "      <td>NaN</td>\n",
       "      <td>NaN</td>\n",
       "      <td>NaN</td>\n",
       "      <td>NaN</td>\n",
       "      <td>NaN</td>\n",
       "      <td>NaN</td>\n",
       "      <td>0</td>\n",
       "      <td>0</td>\n",
       "      <td>NaN</td>\n",
       "      <td>NaN</td>\n",
       "      <td>NaN</td>\n",
       "      <td>NaN</td>\n",
       "    </tr>\n",
       "  </tbody>\n",
       "</table>\n",
       "</div>"
      ],
      "text/plain": [
       "        id  member_id  loan_amnt  funded_amnt  funded_amnt_inv        term  \\\n",
       "0  1077501    1296599       5000         5000             4975   36 months   \n",
       "\n",
       "  int_rate  installment grade sub_grade emp_title emp_length home_ownership  \\\n",
       "0   10.65%       162.87     B        B2       NaN  10+ years           RENT   \n",
       "\n",
       "   annual_inc verification_status   issue_d loan_status pymnt_plan  \\\n",
       "0       24000            Verified  Dec-2011  Fully Paid          n   \n",
       "\n",
       "                                                 url  \\\n",
       "0  https://lendingclub.com/browse/loanDetail.acti...   \n",
       "\n",
       "                                                desc      purpose     title  \\\n",
       "0    Borrower added on 12/22/11 > I need to upgra...  credit_card  Computer   \n",
       "\n",
       "  zip_code addr_state    dti  delinq_2yrs earliest_cr_line  fico_range_low  \\\n",
       "0    860xx         AZ  27.65            0         Jan-1985             735   \n",
       "\n",
       "   fico_range_high  inq_last_6mths  mths_since_last_delinq  \\\n",
       "0              739               1                     NaN   \n",
       "\n",
       "   mths_since_last_record  open_acc  pub_rec  revol_bal revol_util  total_acc  \\\n",
       "0                     NaN         3        0      13648      83.7%          9   \n",
       "\n",
       "  initial_list_status  out_prncp  out_prncp_inv  total_pymnt  total_pymnt_inv  \\\n",
       "0                   f          0              0  5863.155187          5833.84   \n",
       "\n",
       "   total_rec_prncp  total_rec_int  total_rec_late_fee  recoveries  \\\n",
       "0             5000         863.16                   0           0   \n",
       "\n",
       "   collection_recovery_fee last_pymnt_d  last_pymnt_amnt next_pymnt_d  \\\n",
       "0                        0     Jan-2015           171.62          NaN   \n",
       "\n",
       "  last_credit_pull_d  last_fico_range_high  last_fico_range_low  \\\n",
       "0           Oct-2016                   744                  740   \n",
       "\n",
       "   collections_12_mths_ex_med  mths_since_last_major_derog  policy_code  \\\n",
       "0                           0                          NaN            1   \n",
       "\n",
       "  application_type  annual_inc_joint  dti_joint verification_status_joint  \\\n",
       "0       INDIVIDUAL               NaN        NaN                       NaN   \n",
       "\n",
       "   acc_now_delinq  tot_coll_amt  tot_cur_bal  open_acc_6m  open_il_6m  \\\n",
       "0               0           NaN          NaN          NaN         NaN   \n",
       "\n",
       "   open_il_12m  open_il_24m  mths_since_rcnt_il  total_bal_il  il_util  \\\n",
       "0          NaN          NaN                 NaN           NaN      NaN   \n",
       "\n",
       "   open_rv_12m  open_rv_24m  max_bal_bc  all_util  total_rev_hi_lim  inq_fi  \\\n",
       "0          NaN          NaN         NaN       NaN               NaN     NaN   \n",
       "\n",
       "   total_cu_tl  inq_last_12m  acc_open_past_24mths  avg_cur_bal  \\\n",
       "0          NaN           NaN                   NaN          NaN   \n",
       "\n",
       "   bc_open_to_buy  bc_util  chargeoff_within_12_mths  delinq_amnt  \\\n",
       "0             NaN      NaN                         0            0   \n",
       "\n",
       "   mo_sin_old_il_acct  mo_sin_old_rev_tl_op  mo_sin_rcnt_rev_tl_op  \\\n",
       "0                 NaN                   NaN                    NaN   \n",
       "\n",
       "   mo_sin_rcnt_tl  mort_acc  mths_since_recent_bc  mths_since_recent_bc_dlq  \\\n",
       "0             NaN       NaN                   NaN                       NaN   \n",
       "\n",
       "   mths_since_recent_inq  mths_since_recent_revol_delinq  \\\n",
       "0                    NaN                             NaN   \n",
       "\n",
       "   num_accts_ever_120_pd  num_actv_bc_tl  num_actv_rev_tl  num_bc_sats  \\\n",
       "0                    NaN             NaN              NaN          NaN   \n",
       "\n",
       "   num_bc_tl  num_il_tl  num_op_rev_tl  num_rev_accts  num_rev_tl_bal_gt_0  \\\n",
       "0        NaN        NaN            NaN            NaN                  NaN   \n",
       "\n",
       "   num_sats  num_tl_120dpd_2m  num_tl_30dpd  num_tl_90g_dpd_24m  \\\n",
       "0       NaN               NaN           NaN                 NaN   \n",
       "\n",
       "   num_tl_op_past_12m  pct_tl_nvr_dlq  percent_bc_gt_75  pub_rec_bankruptcies  \\\n",
       "0                 NaN             NaN               NaN                     0   \n",
       "\n",
       "   tax_liens  tot_hi_cred_lim  total_bal_ex_mort  total_bc_limit  \\\n",
       "0          0              NaN                NaN             NaN   \n",
       "\n",
       "   total_il_high_credit_limit  \n",
       "0                         NaN  "
      ]
     },
     "execution_count": 6,
     "metadata": {},
     "output_type": "execute_result"
    }
   ],
   "source": [
    "RawData.head(1)"
   ]
  },
  {
   "cell_type": "markdown",
   "metadata": {},
   "source": [
    "#### Basic information\n",
    "According to the above analysis, there are 1,218,316 rows and 115 columns in the loan dataset, with one loan example  shown in the cell above. The 115 columns include information such as borrowers' credit history (such as fico score), personal information (such as annual income, years of employment, zipcode, etc.), loan information (description, type, interest rate, grade, etc.), current loan status (Current, Late, Fully Paid, etc.) and latest credit and payment information. You can find the dictionary for the definitions of all data attributes [here](https://resources.lendingclub.com/LCDataDictionary.xlsx). Since there are too many columns, I will selectly explain a few most important columns/features in the following. \n",
    "\n",
    "#### Features \n",
    "Among those columns, I will use loan information, credit history, personal information as features, and discard columns related to latest credit and payment information. Features include but not limited to (partly shown for simplicity): \n",
    " - `funded_amnt`: funded amount \n",
    " - `term`: term of the loan (36 or 60 months)\n",
    " - `grade`: grade of the loan (A to G)\n",
    " - `int_rate`: interest rate\n",
    " - `emp_length`: employment length\n",
    " - `home_ownership`: own, mortgage, rent, or other\n",
    " - `annual_inc`: annual income\n",
    " - `dti`: debt to income ratio\n",
    " - `delinq_2yrs`: delinquency within last 2 years\n",
    " - `fico_range_low`: fico score, lower one\n",
    " - `fico_range_high`: fico score, higher one\n",
    " - `inq_last_6mths`: inquiry within last 6 months\n",
    " - `purpose`: purpose of the loan\n",
    " \n",
    "These and related features have been widely used for default prediction [1-8]. There are three types of data in the dataset: numerical, categorical and text. I plan to use all types. Some numerical variables will be converted to categorical ones, and vice versa; text will be treated using bag-of-words representation.\n",
    "\n",
    "#### Columns that shall not be used\n",
    "In some of the previous work [1, 2], latest credit information such as `last_fico_range_low` and `last_fico_range_high` were used for prediction and lead to high model performance. However, these features are pulled recently according to the date specified in the `last_credit_pull_d` column. Thus the scores were obtained after a loan was fully paid or default, and their high predictive power is a false illusion because low fico score is the consequence of default but is not a predictor for default. As a result, I will exclude them from features. \n",
    "\n",
    "#### Columns that have lots of NULL values\n",
    "In the following I show the percentage of NULL values for each column that has over 10% NULL data. The percentage data here is only for illustration only, because the actual number will change after data preprocessing detailed in Data Preprocessing section."
   ]
  },
  {
   "cell_type": "code",
   "execution_count": 7,
   "metadata": {
    "collapsed": false
   },
   "outputs": [
    {
     "data": {
      "text/plain": [
       "dti_joint                         0.995765\n",
       "annual_inc_joint                  0.995761\n",
       "verification_status_joint         0.995761\n",
       "desc                              0.896524\n",
       "mths_since_last_record            0.836744\n",
       "mths_since_recent_bc_dlq          0.760211\n",
       "il_util                           0.750048\n",
       "mths_since_last_major_derog       0.740079\n",
       "mths_since_rcnt_il                0.718832\n",
       "all_util                          0.710949\n",
       "open_acc_6m                       0.710936\n",
       "total_cu_tl                       0.710936\n",
       "inq_last_12m                      0.710936\n",
       "open_rv_12m                       0.710935\n",
       "open_rv_24m                       0.710935\n",
       "total_bal_il                      0.710935\n",
       "open_il_24m                       0.710935\n",
       "open_il_12m                       0.710935\n",
       "open_il_6m                        0.710935\n",
       "max_bal_bc                        0.710935\n",
       "inq_fi                            0.710935\n",
       "mths_since_recent_revol_delinq    0.663056\n",
       "mths_since_last_delinq            0.501849\n",
       "next_pymnt_d                      0.341430\n",
       "mths_since_recent_inq             0.139958\n",
       "dtype: float64"
      ]
     },
     "execution_count": 7,
     "metadata": {},
     "output_type": "execute_result"
    }
   ],
   "source": [
    "# percentage of NULL values for each column that has over 10% NULL values\n",
    "countNull = RawData.isnull().sum() / len(RawData)\n",
    "countNull[countNull > 0.1].sort_values(ascending=False)"
   ]
  },
  {
   "cell_type": "markdown",
   "metadata": {},
   "source": [
    "There are three types of columns that mainly consist of NULL values. The first type contains meaningful information such as column `dti_joint`, `annual_inc_joint` (if a borrower doesn't apply the loan jointly with someone else, these two column are NULL), and `mths_since_last_delinq` (months since last delinquency, so if a person has no such history, the column are NULL). The second type is truly missing information, for example, `desc` (description provided by borrowers), `open_acc_6m` and all other columns that has 71.0935% missing data (these are columns that were only recently populated thus missing in previous years). The third type is a mix of the first two types, for example, `mths_since_last_major_derog` is meaningful, yet carefully exam the data shows that the first 10% of loan data is missing. I will keep the first type but remove the second and the third type of columns from features. In the Data Preprocessing section I will provide details on which columns are kept and how to handle missing values for those columns.\n",
    "\n",
    "#### Labels \n",
    "Column `loan_status` will be used as labels for classification task. I first examine the number of loans for each category. "
   ]
  },
  {
   "cell_type": "code",
   "execution_count": 8,
   "metadata": {
    "collapsed": false
   },
   "outputs": [
    {
     "data": {
      "text/html": [
       "<div>\n",
       "<table border=\"1\" class=\"dataframe\">\n",
       "  <thead>\n",
       "    <tr style=\"text-align: right;\">\n",
       "      <th></th>\n",
       "      <th>loan_status</th>\n",
       "      <th>count</th>\n",
       "    </tr>\n",
       "  </thead>\n",
       "  <tbody>\n",
       "    <tr>\n",
       "      <th>0</th>\n",
       "      <td>Charged Off</td>\n",
       "      <td>78609</td>\n",
       "    </tr>\n",
       "    <tr>\n",
       "      <th>1</th>\n",
       "      <td>Current</td>\n",
       "      <td>750682</td>\n",
       "    </tr>\n",
       "    <tr>\n",
       "      <th>2</th>\n",
       "      <td>Default</td>\n",
       "      <td>755</td>\n",
       "    </tr>\n",
       "    <tr>\n",
       "      <th>3</th>\n",
       "      <td>Does not meet the credit policy. Status:Charge...</td>\n",
       "      <td>761</td>\n",
       "    </tr>\n",
       "    <tr>\n",
       "      <th>4</th>\n",
       "      <td>Does not meet the credit policy. Status:Fully ...</td>\n",
       "      <td>1988</td>\n",
       "    </tr>\n",
       "    <tr>\n",
       "      <th>5</th>\n",
       "      <td>Fully Paid</td>\n",
       "      <td>337346</td>\n",
       "    </tr>\n",
       "    <tr>\n",
       "      <th>6</th>\n",
       "      <td>In Grace Period</td>\n",
       "      <td>8444</td>\n",
       "    </tr>\n",
       "    <tr>\n",
       "      <th>7</th>\n",
       "      <td>Issued</td>\n",
       "      <td>16049</td>\n",
       "    </tr>\n",
       "    <tr>\n",
       "      <th>8</th>\n",
       "      <td>Late (16-30 days)</td>\n",
       "      <td>5176</td>\n",
       "    </tr>\n",
       "    <tr>\n",
       "      <th>9</th>\n",
       "      <td>Late (31-120 days)</td>\n",
       "      <td>18491</td>\n",
       "    </tr>\n",
       "  </tbody>\n",
       "</table>\n",
       "</div>"
      ],
      "text/plain": [
       "                                         loan_status   count\n",
       "0                                        Charged Off   78609\n",
       "1                                            Current  750682\n",
       "2                                            Default     755\n",
       "3  Does not meet the credit policy. Status:Charge...     761\n",
       "4  Does not meet the credit policy. Status:Fully ...    1988\n",
       "5                                         Fully Paid  337346\n",
       "6                                    In Grace Period    8444\n",
       "7                                             Issued   16049\n",
       "8                                  Late (16-30 days)    5176\n",
       "9                                 Late (31-120 days)   18491"
      ]
     },
     "execution_count": 8,
     "metadata": {},
     "output_type": "execute_result"
    }
   ],
   "source": [
    "# count number of loans per loan_status category\n",
    "grp = RawData.groupby('loan_status', as_index=False).count()[[0,1]]\n",
    "grp.columns = ['loan_status', 'count']\n",
    "grp"
   ]
  },
  {
   "cell_type": "markdown",
   "metadata": {},
   "source": [
    "There are 10 different loan status in the raw data. As I mentioned above that investors can only invest in the initial period and can't jump in on-going loans, I will remove all on-going loans (with status Current, Issued). For the rest of the status, status (Fully Paid, and Does not meet the credit policy. Status:Fully Paid) will be categorized as good loan, and status (Charged Off, Default, Does not meet the credit policy. Status:Charged Off, In Grace Period, Late) will be categorized as bad loan. In the following I will process the raw data so that there are only two categories left. "
   ]
  },
  {
   "cell_type": "code",
   "execution_count": 9,
   "metadata": {
    "collapsed": false
   },
   "outputs": [
    {
     "name": "stderr",
     "output_type": "stream",
     "text": [
      "/Users/bdcoe/anaconda/lib/python2.7/site-packages/ipykernel/__main__.py:15: SettingWithCopyWarning: \n",
      "A value is trying to be set on a copy of a slice from a DataFrame.\n",
      "Try using .loc[row_indexer,col_indexer] = value instead\n",
      "\n",
      "See the caveats in the documentation: http://pandas.pydata.org/pandas-docs/stable/indexing.html#indexing-view-versus-copy\n"
     ]
    }
   ],
   "source": [
    "# Retain only fulled paid, charged off and default loans for classification task\n",
    "BinaryLoanData = RawData[ (RawData.loan_status == 'Charged Off')\n",
    "        | (RawData.loan_status == 'Default')\n",
    "        | (RawData.loan_status == 'Does not meet the credit policy. Status:Charged Off')\n",
    "        | (RawData.loan_status == 'Does not meet the credit policy. Status:Fully Paid')\n",
    "        | (RawData.loan_status == 'Fully Paid')]\n",
    "\n",
    "def convert_loan_status_to_category(x):\n",
    "    if x.loan_status == 'Fully Paid' or x.loan_status == 'Does not meet the credit policy. Status:Fully Paid':\n",
    "        return 0\n",
    "    else:\n",
    "        return 1\n",
    "\n",
    "# create a binary class as label for prediction\n",
    "BinaryLoanData['binary_loan_status'] = BinaryLoanData.apply(convert_loan_status_to_category, axis=1)"
   ]
  },
  {
   "cell_type": "code",
   "execution_count": 10,
   "metadata": {
    "collapsed": false
   },
   "outputs": [
    {
     "name": "stdout",
     "output_type": "stream",
     "text": [
      "419459\n"
     ]
    },
    {
     "data": {
      "text/html": [
       "<div>\n",
       "<table border=\"1\" class=\"dataframe\">\n",
       "  <thead>\n",
       "    <tr style=\"text-align: right;\">\n",
       "      <th></th>\n",
       "      <th>binary_loan_status</th>\n",
       "      <th>count</th>\n",
       "    </tr>\n",
       "  </thead>\n",
       "  <tbody>\n",
       "    <tr>\n",
       "      <th>0</th>\n",
       "      <td>0</td>\n",
       "      <td>339334</td>\n",
       "    </tr>\n",
       "    <tr>\n",
       "      <th>1</th>\n",
       "      <td>1</td>\n",
       "      <td>80125</td>\n",
       "    </tr>\n",
       "  </tbody>\n",
       "</table>\n",
       "</div>"
      ],
      "text/plain": [
       "   binary_loan_status   count\n",
       "0                   0  339334\n",
       "1                   1   80125"
      ]
     },
     "execution_count": 10,
     "metadata": {},
     "output_type": "execute_result"
    }
   ],
   "source": [
    "# count number of loans for each class\n",
    "grp = BinaryLoanData.groupby('binary_loan_status', as_index=False).count()[[0,1]]\n",
    "grp.columns = ['binary_loan_status', 'count']\n",
    "print grp['count'].sum()\n",
    "grp"
   ]
  },
  {
   "cell_type": "markdown",
   "metadata": {},
   "source": [
    "There are in total 419459 loans left, and they are quite imbalanced, with class 1 (default loan) represents around 20% of total data. In the Methodology section, I will deal with the imbalanced data using undersampling and oversampling techniques.\n",
    "\n",
    "#### Statistics on numeric data"
   ]
  },
  {
   "cell_type": "code",
   "execution_count": 11,
   "metadata": {
    "collapsed": false
   },
   "outputs": [
    {
     "data": {
      "text/html": [
       "<div>\n",
       "<table border=\"1\" class=\"dataframe\">\n",
       "  <thead>\n",
       "    <tr style=\"text-align: right;\">\n",
       "      <th></th>\n",
       "      <th>loan_amnt</th>\n",
       "      <th>funded_amnt</th>\n",
       "      <th>funded_amnt_inv</th>\n",
       "      <th>installment</th>\n",
       "      <th>annual_inc</th>\n",
       "      <th>dti</th>\n",
       "      <th>delinq_2yrs</th>\n",
       "      <th>fico_range_low</th>\n",
       "      <th>fico_range_high</th>\n",
       "      <th>inq_last_6mths</th>\n",
       "      <th>mths_since_last_delinq</th>\n",
       "      <th>mths_since_last_record</th>\n",
       "      <th>open_acc</th>\n",
       "      <th>pub_rec</th>\n",
       "      <th>revol_bal</th>\n",
       "      <th>total_acc</th>\n",
       "      <th>mths_since_last_major_derog</th>\n",
       "      <th>annual_inc_joint</th>\n",
       "      <th>dti_joint</th>\n",
       "      <th>acc_now_delinq</th>\n",
       "      <th>tot_coll_amt</th>\n",
       "      <th>tot_cur_bal</th>\n",
       "      <th>open_acc_6m</th>\n",
       "      <th>open_il_6m</th>\n",
       "      <th>open_il_12m</th>\n",
       "      <th>open_il_24m</th>\n",
       "      <th>mths_since_rcnt_il</th>\n",
       "      <th>total_bal_il</th>\n",
       "      <th>il_util</th>\n",
       "      <th>open_rv_12m</th>\n",
       "      <th>open_rv_24m</th>\n",
       "      <th>max_bal_bc</th>\n",
       "      <th>all_util</th>\n",
       "      <th>total_rev_hi_lim</th>\n",
       "      <th>inq_fi</th>\n",
       "      <th>total_cu_tl</th>\n",
       "      <th>inq_last_12m</th>\n",
       "      <th>acc_open_past_24mths</th>\n",
       "      <th>avg_cur_bal</th>\n",
       "      <th>bc_open_to_buy</th>\n",
       "      <th>bc_util</th>\n",
       "      <th>chargeoff_within_12_mths</th>\n",
       "      <th>delinq_amnt</th>\n",
       "      <th>mo_sin_old_il_acct</th>\n",
       "      <th>mo_sin_old_rev_tl_op</th>\n",
       "      <th>mo_sin_rcnt_rev_tl_op</th>\n",
       "      <th>mo_sin_rcnt_tl</th>\n",
       "      <th>mort_acc</th>\n",
       "      <th>mths_since_recent_bc</th>\n",
       "      <th>mths_since_recent_bc_dlq</th>\n",
       "      <th>mths_since_recent_inq</th>\n",
       "      <th>mths_since_recent_revol_delinq</th>\n",
       "      <th>num_accts_ever_120_pd</th>\n",
       "      <th>num_actv_bc_tl</th>\n",
       "      <th>num_actv_rev_tl</th>\n",
       "      <th>num_bc_sats</th>\n",
       "      <th>num_bc_tl</th>\n",
       "      <th>num_il_tl</th>\n",
       "      <th>num_op_rev_tl</th>\n",
       "      <th>num_rev_accts</th>\n",
       "      <th>num_rev_tl_bal_gt_0</th>\n",
       "      <th>num_sats</th>\n",
       "      <th>num_tl_120dpd_2m</th>\n",
       "      <th>num_tl_30dpd</th>\n",
       "      <th>num_tl_90g_dpd_24m</th>\n",
       "      <th>num_tl_op_past_12m</th>\n",
       "      <th>pct_tl_nvr_dlq</th>\n",
       "      <th>percent_bc_gt_75</th>\n",
       "      <th>pub_rec_bankruptcies</th>\n",
       "      <th>tax_liens</th>\n",
       "      <th>tot_hi_cred_lim</th>\n",
       "      <th>total_bal_ex_mort</th>\n",
       "      <th>total_bc_limit</th>\n",
       "      <th>total_il_high_credit_limit</th>\n",
       "      <th>binary_loan_status</th>\n",
       "    </tr>\n",
       "  </thead>\n",
       "  <tbody>\n",
       "    <tr>\n",
       "      <th>count</th>\n",
       "      <td>419459.000000</td>\n",
       "      <td>419459.000000</td>\n",
       "      <td>419459.000000</td>\n",
       "      <td>419459.000000</td>\n",
       "      <td>419455.000000</td>\n",
       "      <td>419459.000000</td>\n",
       "      <td>419430.000000</td>\n",
       "      <td>419459.000000</td>\n",
       "      <td>419459.000000</td>\n",
       "      <td>419430.000000</td>\n",
       "      <td>193702.000000</td>\n",
       "      <td>59486.000000</td>\n",
       "      <td>419430.000000</td>\n",
       "      <td>419430.000000</td>\n",
       "      <td>419459.000000</td>\n",
       "      <td>419430.000000</td>\n",
       "      <td>90672.000000</td>\n",
       "      <td>244.000000</td>\n",
       "      <td>244.00000</td>\n",
       "      <td>419430.000000</td>\n",
       "      <td>350860.000000</td>\n",
       "      <td>350860.000000</td>\n",
       "      <td>19561.000000</td>\n",
       "      <td>19561.000000</td>\n",
       "      <td>19561.000000</td>\n",
       "      <td>19561.000000</td>\n",
       "      <td>19080.000000</td>\n",
       "      <td>19561.000000</td>\n",
       "      <td>16960.000000</td>\n",
       "      <td>19561.000000</td>\n",
       "      <td>19561.000000</td>\n",
       "      <td>19561.000000</td>\n",
       "      <td>19561.000000</td>\n",
       "      <td>350860.000000</td>\n",
       "      <td>19561.000000</td>\n",
       "      <td>19561.000000</td>\n",
       "      <td>19561.000000</td>\n",
       "      <td>370215.000000</td>\n",
       "      <td>350848.000000</td>\n",
       "      <td>366514.000000</td>\n",
       "      <td>366270.000000</td>\n",
       "      <td>419314.000000</td>\n",
       "      <td>419430.000000</td>\n",
       "      <td>339802.000000</td>\n",
       "      <td>350859.000000</td>\n",
       "      <td>350859.000000</td>\n",
       "      <td>350860.000000</td>\n",
       "      <td>370215.000000</td>\n",
       "      <td>366840.000000</td>\n",
       "      <td>87149.000000</td>\n",
       "      <td>336590.000000</td>\n",
       "      <td>123359.000000</td>\n",
       "      <td>350860.000000</td>\n",
       "      <td>350860.000000</td>\n",
       "      <td>350860.000000</td>\n",
       "      <td>362009.000000</td>\n",
       "      <td>350860.000000</td>\n",
       "      <td>350860.000000</td>\n",
       "      <td>350860.000000</td>\n",
       "      <td>350860.000000</td>\n",
       "      <td>350860.000000</td>\n",
       "      <td>362009.000000</td>\n",
       "      <td>341768.000000</td>\n",
       "      <td>350860.000000</td>\n",
       "      <td>350860.000000</td>\n",
       "      <td>350860.000000</td>\n",
       "      <td>350768.000000</td>\n",
       "      <td>366396.000000</td>\n",
       "      <td>418094.000000</td>\n",
       "      <td>419354.000000</td>\n",
       "      <td>350860.000000</td>\n",
       "      <td>370215.000000</td>\n",
       "      <td>370215.000000</td>\n",
       "      <td>350860.000000</td>\n",
       "      <td>419459.000000</td>\n",
       "    </tr>\n",
       "    <tr>\n",
       "      <th>mean</th>\n",
       "      <td>13932.010280</td>\n",
       "      <td>13904.144684</td>\n",
       "      <td>13827.738524</td>\n",
       "      <td>427.147949</td>\n",
       "      <td>73680.744953</td>\n",
       "      <td>17.189658</td>\n",
       "      <td>0.273900</td>\n",
       "      <td>696.775215</td>\n",
       "      <td>700.775332</td>\n",
       "      <td>0.819405</td>\n",
       "      <td>34.780472</td>\n",
       "      <td>73.420754</td>\n",
       "      <td>11.213468</td>\n",
       "      <td>0.167654</td>\n",
       "      <td>15769.327772</td>\n",
       "      <td>25.306068</td>\n",
       "      <td>43.923493</td>\n",
       "      <td>115026.609918</td>\n",
       "      <td>17.99750</td>\n",
       "      <td>0.003989</td>\n",
       "      <td>206.004831</td>\n",
       "      <td>139415.703372</td>\n",
       "      <td>1.232350</td>\n",
       "      <td>2.787281</td>\n",
       "      <td>0.963397</td>\n",
       "      <td>1.991872</td>\n",
       "      <td>18.002463</td>\n",
       "      <td>36856.572108</td>\n",
       "      <td>73.802040</td>\n",
       "      <td>1.572210</td>\n",
       "      <td>3.266091</td>\n",
       "      <td>5759.939216</td>\n",
       "      <td>58.460794</td>\n",
       "      <td>30717.350812</td>\n",
       "      <td>1.153826</td>\n",
       "      <td>1.942999</td>\n",
       "      <td>2.609938</td>\n",
       "      <td>4.594085</td>\n",
       "      <td>13609.384959</td>\n",
       "      <td>8949.854778</td>\n",
       "      <td>63.001302</td>\n",
       "      <td>0.007648</td>\n",
       "      <td>10.070789</td>\n",
       "      <td>125.022422</td>\n",
       "      <td>178.392320</td>\n",
       "      <td>12.623872</td>\n",
       "      <td>7.763139</td>\n",
       "      <td>1.816979</td>\n",
       "      <td>23.370527</td>\n",
       "      <td>40.844072</td>\n",
       "      <td>6.560343</td>\n",
       "      <td>36.664605</td>\n",
       "      <td>0.453574</td>\n",
       "      <td>3.617944</td>\n",
       "      <td>5.601562</td>\n",
       "      <td>4.675914</td>\n",
       "      <td>8.758975</td>\n",
       "      <td>8.462925</td>\n",
       "      <td>8.227014</td>\n",
       "      <td>15.288753</td>\n",
       "      <td>5.573300</td>\n",
       "      <td>11.447166</td>\n",
       "      <td>0.000778</td>\n",
       "      <td>0.003035</td>\n",
       "      <td>0.082742</td>\n",
       "      <td>2.157319</td>\n",
       "      <td>94.778768</td>\n",
       "      <td>49.160904</td>\n",
       "      <td>0.116809</td>\n",
       "      <td>0.030561</td>\n",
       "      <td>169431.299410</td>\n",
       "      <td>46485.698040</td>\n",
       "      <td>20212.645873</td>\n",
       "      <td>38640.474828</td>\n",
       "      <td>0.191020</td>\n",
       "    </tr>\n",
       "    <tr>\n",
       "      <th>std</th>\n",
       "      <td>8288.005313</td>\n",
       "      <td>8273.613615</td>\n",
       "      <td>8296.631202</td>\n",
       "      <td>248.604677</td>\n",
       "      <td>62483.073669</td>\n",
       "      <td>23.373579</td>\n",
       "      <td>0.792964</td>\n",
       "      <td>31.711090</td>\n",
       "      <td>31.711638</td>\n",
       "      <td>1.097627</td>\n",
       "      <td>21.890293</td>\n",
       "      <td>29.284442</td>\n",
       "      <td>5.077896</td>\n",
       "      <td>0.492376</td>\n",
       "      <td>20994.456939</td>\n",
       "      <td>11.877239</td>\n",
       "      <td>21.887705</td>\n",
       "      <td>46975.084289</td>\n",
       "      <td>7.60178</td>\n",
       "      <td>0.068260</td>\n",
       "      <td>15557.170251</td>\n",
       "      <td>153638.772003</td>\n",
       "      <td>1.341469</td>\n",
       "      <td>2.969510</td>\n",
       "      <td>1.162154</td>\n",
       "      <td>1.914503</td>\n",
       "      <td>24.302144</td>\n",
       "      <td>41835.235109</td>\n",
       "      <td>21.741018</td>\n",
       "      <td>1.674362</td>\n",
       "      <td>2.810130</td>\n",
       "      <td>5734.498659</td>\n",
       "      <td>21.104890</td>\n",
       "      <td>35187.798354</td>\n",
       "      <td>1.691736</td>\n",
       "      <td>3.249882</td>\n",
       "      <td>2.782429</td>\n",
       "      <td>3.038570</td>\n",
       "      <td>16375.566347</td>\n",
       "      <td>14016.150378</td>\n",
       "      <td>27.630425</td>\n",
       "      <td>0.100159</td>\n",
       "      <td>600.177775</td>\n",
       "      <td>51.106436</td>\n",
       "      <td>89.322087</td>\n",
       "      <td>15.260752</td>\n",
       "      <td>8.567286</td>\n",
       "      <td>2.163521</td>\n",
       "      <td>28.811632</td>\n",
       "      <td>22.367722</td>\n",
       "      <td>5.773451</td>\n",
       "      <td>22.252040</td>\n",
       "      <td>1.188576</td>\n",
       "      <td>2.128481</td>\n",
       "      <td>3.085436</td>\n",
       "      <td>2.733201</td>\n",
       "      <td>4.928854</td>\n",
       "      <td>7.206580</td>\n",
       "      <td>4.253441</td>\n",
       "      <td>8.022918</td>\n",
       "      <td>3.042774</td>\n",
       "      <td>5.109417</td>\n",
       "      <td>0.030204</td>\n",
       "      <td>0.058720</td>\n",
       "      <td>0.468585</td>\n",
       "      <td>1.766660</td>\n",
       "      <td>7.980122</td>\n",
       "      <td>35.260431</td>\n",
       "      <td>0.347889</td>\n",
       "      <td>0.279595</td>\n",
       "      <td>171360.617868</td>\n",
       "      <td>44009.143834</td>\n",
       "      <td>19942.902618</td>\n",
       "      <td>40181.918309</td>\n",
       "      <td>0.393105</td>\n",
       "    </tr>\n",
       "    <tr>\n",
       "      <th>min</th>\n",
       "      <td>500.000000</td>\n",
       "      <td>500.000000</td>\n",
       "      <td>0.000000</td>\n",
       "      <td>15.670000</td>\n",
       "      <td>0.000000</td>\n",
       "      <td>0.000000</td>\n",
       "      <td>0.000000</td>\n",
       "      <td>610.000000</td>\n",
       "      <td>614.000000</td>\n",
       "      <td>0.000000</td>\n",
       "      <td>0.000000</td>\n",
       "      <td>0.000000</td>\n",
       "      <td>0.000000</td>\n",
       "      <td>0.000000</td>\n",
       "      <td>0.000000</td>\n",
       "      <td>1.000000</td>\n",
       "      <td>0.000000</td>\n",
       "      <td>17950.000000</td>\n",
       "      <td>3.12000</td>\n",
       "      <td>0.000000</td>\n",
       "      <td>0.000000</td>\n",
       "      <td>0.000000</td>\n",
       "      <td>0.000000</td>\n",
       "      <td>0.000000</td>\n",
       "      <td>0.000000</td>\n",
       "      <td>0.000000</td>\n",
       "      <td>0.000000</td>\n",
       "      <td>0.000000</td>\n",
       "      <td>0.000000</td>\n",
       "      <td>0.000000</td>\n",
       "      <td>0.000000</td>\n",
       "      <td>0.000000</td>\n",
       "      <td>0.000000</td>\n",
       "      <td>0.000000</td>\n",
       "      <td>0.000000</td>\n",
       "      <td>0.000000</td>\n",
       "      <td>0.000000</td>\n",
       "      <td>0.000000</td>\n",
       "      <td>0.000000</td>\n",
       "      <td>0.000000</td>\n",
       "      <td>0.000000</td>\n",
       "      <td>0.000000</td>\n",
       "      <td>0.000000</td>\n",
       "      <td>0.000000</td>\n",
       "      <td>4.000000</td>\n",
       "      <td>0.000000</td>\n",
       "      <td>0.000000</td>\n",
       "      <td>0.000000</td>\n",
       "      <td>0.000000</td>\n",
       "      <td>0.000000</td>\n",
       "      <td>0.000000</td>\n",
       "      <td>0.000000</td>\n",
       "      <td>0.000000</td>\n",
       "      <td>0.000000</td>\n",
       "      <td>0.000000</td>\n",
       "      <td>0.000000</td>\n",
       "      <td>0.000000</td>\n",
       "      <td>0.000000</td>\n",
       "      <td>0.000000</td>\n",
       "      <td>0.000000</td>\n",
       "      <td>0.000000</td>\n",
       "      <td>0.000000</td>\n",
       "      <td>0.000000</td>\n",
       "      <td>0.000000</td>\n",
       "      <td>0.000000</td>\n",
       "      <td>0.000000</td>\n",
       "      <td>15.000000</td>\n",
       "      <td>0.000000</td>\n",
       "      <td>0.000000</td>\n",
       "      <td>0.000000</td>\n",
       "      <td>0.000000</td>\n",
       "      <td>0.000000</td>\n",
       "      <td>0.000000</td>\n",
       "      <td>0.000000</td>\n",
       "      <td>0.000000</td>\n",
       "    </tr>\n",
       "    <tr>\n",
       "      <th>25%</th>\n",
       "      <td>7675.000000</td>\n",
       "      <td>7625.000000</td>\n",
       "      <td>7500.000000</td>\n",
       "      <td>247.130000</td>\n",
       "      <td>45000.000000</td>\n",
       "      <td>11.140000</td>\n",
       "      <td>0.000000</td>\n",
       "      <td>675.000000</td>\n",
       "      <td>679.000000</td>\n",
       "      <td>0.000000</td>\n",
       "      <td>16.000000</td>\n",
       "      <td>54.000000</td>\n",
       "      <td>8.000000</td>\n",
       "      <td>0.000000</td>\n",
       "      <td>5970.000000</td>\n",
       "      <td>17.000000</td>\n",
       "      <td>27.000000</td>\n",
       "      <td>84750.000000</td>\n",
       "      <td>12.22250</td>\n",
       "      <td>0.000000</td>\n",
       "      <td>0.000000</td>\n",
       "      <td>28812.750000</td>\n",
       "      <td>0.000000</td>\n",
       "      <td>1.000000</td>\n",
       "      <td>0.000000</td>\n",
       "      <td>1.000000</td>\n",
       "      <td>5.000000</td>\n",
       "      <td>10802.000000</td>\n",
       "      <td>62.200000</td>\n",
       "      <td>0.000000</td>\n",
       "      <td>1.000000</td>\n",
       "      <td>2130.000000</td>\n",
       "      <td>44.900000</td>\n",
       "      <td>13500.000000</td>\n",
       "      <td>0.000000</td>\n",
       "      <td>0.000000</td>\n",
       "      <td>1.000000</td>\n",
       "      <td>2.000000</td>\n",
       "      <td>3069.000000</td>\n",
       "      <td>1192.000000</td>\n",
       "      <td>43.000000</td>\n",
       "      <td>0.000000</td>\n",
       "      <td>0.000000</td>\n",
       "      <td>96.000000</td>\n",
       "      <td>116.000000</td>\n",
       "      <td>4.000000</td>\n",
       "      <td>3.000000</td>\n",
       "      <td>0.000000</td>\n",
       "      <td>6.000000</td>\n",
       "      <td>22.000000</td>\n",
       "      <td>2.000000</td>\n",
       "      <td>18.000000</td>\n",
       "      <td>0.000000</td>\n",
       "      <td>2.000000</td>\n",
       "      <td>3.000000</td>\n",
       "      <td>3.000000</td>\n",
       "      <td>5.000000</td>\n",
       "      <td>3.000000</td>\n",
       "      <td>5.000000</td>\n",
       "      <td>9.000000</td>\n",
       "      <td>3.000000</td>\n",
       "      <td>8.000000</td>\n",
       "      <td>0.000000</td>\n",
       "      <td>0.000000</td>\n",
       "      <td>0.000000</td>\n",
       "      <td>1.000000</td>\n",
       "      <td>92.100000</td>\n",
       "      <td>20.000000</td>\n",
       "      <td>0.000000</td>\n",
       "      <td>0.000000</td>\n",
       "      <td>47147.750000</td>\n",
       "      <td>19978.000000</td>\n",
       "      <td>7300.000000</td>\n",
       "      <td>12875.000000</td>\n",
       "      <td>0.000000</td>\n",
       "    </tr>\n",
       "    <tr>\n",
       "      <th>50%</th>\n",
       "      <td>12000.000000</td>\n",
       "      <td>12000.000000</td>\n",
       "      <td>12000.000000</td>\n",
       "      <td>372.130000</td>\n",
       "      <td>63000.000000</td>\n",
       "      <td>16.730000</td>\n",
       "      <td>0.000000</td>\n",
       "      <td>690.000000</td>\n",
       "      <td>694.000000</td>\n",
       "      <td>0.000000</td>\n",
       "      <td>32.000000</td>\n",
       "      <td>75.000000</td>\n",
       "      <td>10.000000</td>\n",
       "      <td>0.000000</td>\n",
       "      <td>11118.000000</td>\n",
       "      <td>24.000000</td>\n",
       "      <td>43.000000</td>\n",
       "      <td>108763.910000</td>\n",
       "      <td>17.89500</td>\n",
       "      <td>0.000000</td>\n",
       "      <td>0.000000</td>\n",
       "      <td>80944.500000</td>\n",
       "      <td>1.000000</td>\n",
       "      <td>2.000000</td>\n",
       "      <td>1.000000</td>\n",
       "      <td>2.000000</td>\n",
       "      <td>10.000000</td>\n",
       "      <td>25706.000000</td>\n",
       "      <td>77.400000</td>\n",
       "      <td>1.000000</td>\n",
       "      <td>3.000000</td>\n",
       "      <td>4285.000000</td>\n",
       "      <td>60.300000</td>\n",
       "      <td>22800.000000</td>\n",
       "      <td>1.000000</td>\n",
       "      <td>1.000000</td>\n",
       "      <td>2.000000</td>\n",
       "      <td>4.000000</td>\n",
       "      <td>7556.000000</td>\n",
       "      <td>3901.000000</td>\n",
       "      <td>67.500000</td>\n",
       "      <td>0.000000</td>\n",
       "      <td>0.000000</td>\n",
       "      <td>128.000000</td>\n",
       "      <td>162.000000</td>\n",
       "      <td>8.000000</td>\n",
       "      <td>5.000000</td>\n",
       "      <td>1.000000</td>\n",
       "      <td>13.000000</td>\n",
       "      <td>40.000000</td>\n",
       "      <td>5.000000</td>\n",
       "      <td>34.000000</td>\n",
       "      <td>0.000000</td>\n",
       "      <td>3.000000</td>\n",
       "      <td>5.000000</td>\n",
       "      <td>4.000000</td>\n",
       "      <td>8.000000</td>\n",
       "      <td>7.000000</td>\n",
       "      <td>7.000000</td>\n",
       "      <td>14.000000</td>\n",
       "      <td>5.000000</td>\n",
       "      <td>11.000000</td>\n",
       "      <td>0.000000</td>\n",
       "      <td>0.000000</td>\n",
       "      <td>0.000000</td>\n",
       "      <td>2.000000</td>\n",
       "      <td>100.000000</td>\n",
       "      <td>50.000000</td>\n",
       "      <td>0.000000</td>\n",
       "      <td>0.000000</td>\n",
       "      <td>110161.500000</td>\n",
       "      <td>35286.000000</td>\n",
       "      <td>14100.000000</td>\n",
       "      <td>29151.000000</td>\n",
       "      <td>0.000000</td>\n",
       "    </tr>\n",
       "    <tr>\n",
       "      <th>75%</th>\n",
       "      <td>19425.000000</td>\n",
       "      <td>19200.000000</td>\n",
       "      <td>19200.000000</td>\n",
       "      <td>561.000000</td>\n",
       "      <td>89124.500000</td>\n",
       "      <td>22.720000</td>\n",
       "      <td>0.000000</td>\n",
       "      <td>710.000000</td>\n",
       "      <td>714.000000</td>\n",
       "      <td>1.000000</td>\n",
       "      <td>51.000000</td>\n",
       "      <td>98.000000</td>\n",
       "      <td>14.000000</td>\n",
       "      <td>0.000000</td>\n",
       "      <td>19512.000000</td>\n",
       "      <td>32.000000</td>\n",
       "      <td>61.000000</td>\n",
       "      <td>138940.750000</td>\n",
       "      <td>23.09000</td>\n",
       "      <td>0.000000</td>\n",
       "      <td>0.000000</td>\n",
       "      <td>209293.250000</td>\n",
       "      <td>2.000000</td>\n",
       "      <td>3.000000</td>\n",
       "      <td>1.000000</td>\n",
       "      <td>3.000000</td>\n",
       "      <td>19.000000</td>\n",
       "      <td>48562.000000</td>\n",
       "      <td>89.000000</td>\n",
       "      <td>2.000000</td>\n",
       "      <td>5.000000</td>\n",
       "      <td>7580.000000</td>\n",
       "      <td>73.500000</td>\n",
       "      <td>38000.000000</td>\n",
       "      <td>2.000000</td>\n",
       "      <td>3.000000</td>\n",
       "      <td>4.000000</td>\n",
       "      <td>6.000000</td>\n",
       "      <td>19104.000000</td>\n",
       "      <td>10580.000000</td>\n",
       "      <td>87.000000</td>\n",
       "      <td>0.000000</td>\n",
       "      <td>0.000000</td>\n",
       "      <td>151.000000</td>\n",
       "      <td>223.000000</td>\n",
       "      <td>15.000000</td>\n",
       "      <td>10.000000</td>\n",
       "      <td>3.000000</td>\n",
       "      <td>28.000000</td>\n",
       "      <td>60.000000</td>\n",
       "      <td>10.000000</td>\n",
       "      <td>54.000000</td>\n",
       "      <td>0.000000</td>\n",
       "      <td>5.000000</td>\n",
       "      <td>7.000000</td>\n",
       "      <td>6.000000</td>\n",
       "      <td>11.000000</td>\n",
       "      <td>11.000000</td>\n",
       "      <td>10.000000</td>\n",
       "      <td>19.000000</td>\n",
       "      <td>7.000000</td>\n",
       "      <td>14.000000</td>\n",
       "      <td>0.000000</td>\n",
       "      <td>0.000000</td>\n",
       "      <td>0.000000</td>\n",
       "      <td>3.000000</td>\n",
       "      <td>100.000000</td>\n",
       "      <td>77.800000</td>\n",
       "      <td>0.000000</td>\n",
       "      <td>0.000000</td>\n",
       "      <td>246674.250000</td>\n",
       "      <td>58581.000000</td>\n",
       "      <td>26300.000000</td>\n",
       "      <td>52300.000000</td>\n",
       "      <td>0.000000</td>\n",
       "    </tr>\n",
       "    <tr>\n",
       "      <th>max</th>\n",
       "      <td>40000.000000</td>\n",
       "      <td>40000.000000</td>\n",
       "      <td>40000.000000</td>\n",
       "      <td>1464.420000</td>\n",
       "      <td>8900060.000000</td>\n",
       "      <td>9999.000000</td>\n",
       "      <td>29.000000</td>\n",
       "      <td>845.000000</td>\n",
       "      <td>850.000000</td>\n",
       "      <td>33.000000</td>\n",
       "      <td>176.000000</td>\n",
       "      <td>129.000000</td>\n",
       "      <td>76.000000</td>\n",
       "      <td>54.000000</td>\n",
       "      <td>2568995.000000</td>\n",
       "      <td>151.000000</td>\n",
       "      <td>176.000000</td>\n",
       "      <td>320000.000000</td>\n",
       "      <td>45.39000</td>\n",
       "      <td>6.000000</td>\n",
       "      <td>9152545.000000</td>\n",
       "      <td>8000078.000000</td>\n",
       "      <td>15.000000</td>\n",
       "      <td>31.000000</td>\n",
       "      <td>20.000000</td>\n",
       "      <td>26.000000</td>\n",
       "      <td>309.000000</td>\n",
       "      <td>796104.000000</td>\n",
       "      <td>233.800000</td>\n",
       "      <td>28.000000</td>\n",
       "      <td>39.000000</td>\n",
       "      <td>135471.000000</td>\n",
       "      <td>156.900000</td>\n",
       "      <td>9999999.000000</td>\n",
       "      <td>23.000000</td>\n",
       "      <td>44.000000</td>\n",
       "      <td>32.000000</td>\n",
       "      <td>47.000000</td>\n",
       "      <td>958084.000000</td>\n",
       "      <td>497445.000000</td>\n",
       "      <td>339.600000</td>\n",
       "      <td>7.000000</td>\n",
       "      <td>76735.000000</td>\n",
       "      <td>724.000000</td>\n",
       "      <td>842.000000</td>\n",
       "      <td>372.000000</td>\n",
       "      <td>197.000000</td>\n",
       "      <td>34.000000</td>\n",
       "      <td>554.000000</td>\n",
       "      <td>176.000000</td>\n",
       "      <td>25.000000</td>\n",
       "      <td>176.000000</td>\n",
       "      <td>30.000000</td>\n",
       "      <td>30.000000</td>\n",
       "      <td>44.000000</td>\n",
       "      <td>57.000000</td>\n",
       "      <td>68.000000</td>\n",
       "      <td>117.000000</td>\n",
       "      <td>62.000000</td>\n",
       "      <td>105.000000</td>\n",
       "      <td>42.000000</td>\n",
       "      <td>76.000000</td>\n",
       "      <td>6.000000</td>\n",
       "      <td>4.000000</td>\n",
       "      <td>24.000000</td>\n",
       "      <td>30.000000</td>\n",
       "      <td>100.000000</td>\n",
       "      <td>100.000000</td>\n",
       "      <td>8.000000</td>\n",
       "      <td>53.000000</td>\n",
       "      <td>9999999.000000</td>\n",
       "      <td>2644442.000000</td>\n",
       "      <td>684000.000000</td>\n",
       "      <td>2101913.000000</td>\n",
       "      <td>1.000000</td>\n",
       "    </tr>\n",
       "  </tbody>\n",
       "</table>\n",
       "</div>"
      ],
      "text/plain": [
       "           loan_amnt    funded_amnt  funded_amnt_inv    installment  \\\n",
       "count  419459.000000  419459.000000    419459.000000  419459.000000   \n",
       "mean    13932.010280   13904.144684     13827.738524     427.147949   \n",
       "std      8288.005313    8273.613615      8296.631202     248.604677   \n",
       "min       500.000000     500.000000         0.000000      15.670000   \n",
       "25%      7675.000000    7625.000000      7500.000000     247.130000   \n",
       "50%     12000.000000   12000.000000     12000.000000     372.130000   \n",
       "75%     19425.000000   19200.000000     19200.000000     561.000000   \n",
       "max     40000.000000   40000.000000     40000.000000    1464.420000   \n",
       "\n",
       "           annual_inc            dti    delinq_2yrs  fico_range_low  \\\n",
       "count   419455.000000  419459.000000  419430.000000   419459.000000   \n",
       "mean     73680.744953      17.189658       0.273900      696.775215   \n",
       "std      62483.073669      23.373579       0.792964       31.711090   \n",
       "min          0.000000       0.000000       0.000000      610.000000   \n",
       "25%      45000.000000      11.140000       0.000000      675.000000   \n",
       "50%      63000.000000      16.730000       0.000000      690.000000   \n",
       "75%      89124.500000      22.720000       0.000000      710.000000   \n",
       "max    8900060.000000    9999.000000      29.000000      845.000000   \n",
       "\n",
       "       fico_range_high  inq_last_6mths  mths_since_last_delinq  \\\n",
       "count    419459.000000   419430.000000           193702.000000   \n",
       "mean        700.775332        0.819405               34.780472   \n",
       "std          31.711638        1.097627               21.890293   \n",
       "min         614.000000        0.000000                0.000000   \n",
       "25%         679.000000        0.000000               16.000000   \n",
       "50%         694.000000        0.000000               32.000000   \n",
       "75%         714.000000        1.000000               51.000000   \n",
       "max         850.000000       33.000000              176.000000   \n",
       "\n",
       "       mths_since_last_record       open_acc        pub_rec       revol_bal  \\\n",
       "count            59486.000000  419430.000000  419430.000000   419459.000000   \n",
       "mean                73.420754      11.213468       0.167654    15769.327772   \n",
       "std                 29.284442       5.077896       0.492376    20994.456939   \n",
       "min                  0.000000       0.000000       0.000000        0.000000   \n",
       "25%                 54.000000       8.000000       0.000000     5970.000000   \n",
       "50%                 75.000000      10.000000       0.000000    11118.000000   \n",
       "75%                 98.000000      14.000000       0.000000    19512.000000   \n",
       "max                129.000000      76.000000      54.000000  2568995.000000   \n",
       "\n",
       "           total_acc  mths_since_last_major_derog  annual_inc_joint  \\\n",
       "count  419430.000000                 90672.000000        244.000000   \n",
       "mean       25.306068                    43.923493     115026.609918   \n",
       "std        11.877239                    21.887705      46975.084289   \n",
       "min         1.000000                     0.000000      17950.000000   \n",
       "25%        17.000000                    27.000000      84750.000000   \n",
       "50%        24.000000                    43.000000     108763.910000   \n",
       "75%        32.000000                    61.000000     138940.750000   \n",
       "max       151.000000                   176.000000     320000.000000   \n",
       "\n",
       "       dti_joint  acc_now_delinq    tot_coll_amt     tot_cur_bal  \\\n",
       "count  244.00000   419430.000000   350860.000000   350860.000000   \n",
       "mean    17.99750        0.003989      206.004831   139415.703372   \n",
       "std      7.60178        0.068260    15557.170251   153638.772003   \n",
       "min      3.12000        0.000000        0.000000        0.000000   \n",
       "25%     12.22250        0.000000        0.000000    28812.750000   \n",
       "50%     17.89500        0.000000        0.000000    80944.500000   \n",
       "75%     23.09000        0.000000        0.000000   209293.250000   \n",
       "max     45.39000        6.000000  9152545.000000  8000078.000000   \n",
       "\n",
       "        open_acc_6m    open_il_6m   open_il_12m   open_il_24m  \\\n",
       "count  19561.000000  19561.000000  19561.000000  19561.000000   \n",
       "mean       1.232350      2.787281      0.963397      1.991872   \n",
       "std        1.341469      2.969510      1.162154      1.914503   \n",
       "min        0.000000      0.000000      0.000000      0.000000   \n",
       "25%        0.000000      1.000000      0.000000      1.000000   \n",
       "50%        1.000000      2.000000      1.000000      2.000000   \n",
       "75%        2.000000      3.000000      1.000000      3.000000   \n",
       "max       15.000000     31.000000     20.000000     26.000000   \n",
       "\n",
       "       mths_since_rcnt_il   total_bal_il       il_util   open_rv_12m  \\\n",
       "count        19080.000000   19561.000000  16960.000000  19561.000000   \n",
       "mean            18.002463   36856.572108     73.802040      1.572210   \n",
       "std             24.302144   41835.235109     21.741018      1.674362   \n",
       "min              0.000000       0.000000      0.000000      0.000000   \n",
       "25%              5.000000   10802.000000     62.200000      0.000000   \n",
       "50%             10.000000   25706.000000     77.400000      1.000000   \n",
       "75%             19.000000   48562.000000     89.000000      2.000000   \n",
       "max            309.000000  796104.000000    233.800000     28.000000   \n",
       "\n",
       "        open_rv_24m     max_bal_bc      all_util  total_rev_hi_lim  \\\n",
       "count  19561.000000   19561.000000  19561.000000     350860.000000   \n",
       "mean       3.266091    5759.939216     58.460794      30717.350812   \n",
       "std        2.810130    5734.498659     21.104890      35187.798354   \n",
       "min        0.000000       0.000000      0.000000          0.000000   \n",
       "25%        1.000000    2130.000000     44.900000      13500.000000   \n",
       "50%        3.000000    4285.000000     60.300000      22800.000000   \n",
       "75%        5.000000    7580.000000     73.500000      38000.000000   \n",
       "max       39.000000  135471.000000    156.900000    9999999.000000   \n",
       "\n",
       "             inq_fi   total_cu_tl  inq_last_12m  acc_open_past_24mths  \\\n",
       "count  19561.000000  19561.000000  19561.000000         370215.000000   \n",
       "mean       1.153826      1.942999      2.609938              4.594085   \n",
       "std        1.691736      3.249882      2.782429              3.038570   \n",
       "min        0.000000      0.000000      0.000000              0.000000   \n",
       "25%        0.000000      0.000000      1.000000              2.000000   \n",
       "50%        1.000000      1.000000      2.000000              4.000000   \n",
       "75%        2.000000      3.000000      4.000000              6.000000   \n",
       "max       23.000000     44.000000     32.000000             47.000000   \n",
       "\n",
       "         avg_cur_bal  bc_open_to_buy        bc_util  chargeoff_within_12_mths  \\\n",
       "count  350848.000000   366514.000000  366270.000000             419314.000000   \n",
       "mean    13609.384959     8949.854778      63.001302                  0.007648   \n",
       "std     16375.566347    14016.150378      27.630425                  0.100159   \n",
       "min         0.000000        0.000000       0.000000                  0.000000   \n",
       "25%      3069.000000     1192.000000      43.000000                  0.000000   \n",
       "50%      7556.000000     3901.000000      67.500000                  0.000000   \n",
       "75%     19104.000000    10580.000000      87.000000                  0.000000   \n",
       "max    958084.000000   497445.000000     339.600000                  7.000000   \n",
       "\n",
       "         delinq_amnt  mo_sin_old_il_acct  mo_sin_old_rev_tl_op  \\\n",
       "count  419430.000000       339802.000000         350859.000000   \n",
       "mean       10.070789          125.022422            178.392320   \n",
       "std       600.177775           51.106436             89.322087   \n",
       "min         0.000000            0.000000              4.000000   \n",
       "25%         0.000000           96.000000            116.000000   \n",
       "50%         0.000000          128.000000            162.000000   \n",
       "75%         0.000000          151.000000            223.000000   \n",
       "max     76735.000000          724.000000            842.000000   \n",
       "\n",
       "       mo_sin_rcnt_rev_tl_op  mo_sin_rcnt_tl       mort_acc  \\\n",
       "count          350859.000000   350860.000000  370215.000000   \n",
       "mean               12.623872        7.763139       1.816979   \n",
       "std                15.260752        8.567286       2.163521   \n",
       "min                 0.000000        0.000000       0.000000   \n",
       "25%                 4.000000        3.000000       0.000000   \n",
       "50%                 8.000000        5.000000       1.000000   \n",
       "75%                15.000000       10.000000       3.000000   \n",
       "max               372.000000      197.000000      34.000000   \n",
       "\n",
       "       mths_since_recent_bc  mths_since_recent_bc_dlq  mths_since_recent_inq  \\\n",
       "count         366840.000000              87149.000000          336590.000000   \n",
       "mean              23.370527                 40.844072               6.560343   \n",
       "std               28.811632                 22.367722               5.773451   \n",
       "min                0.000000                  0.000000               0.000000   \n",
       "25%                6.000000                 22.000000               2.000000   \n",
       "50%               13.000000                 40.000000               5.000000   \n",
       "75%               28.000000                 60.000000              10.000000   \n",
       "max              554.000000                176.000000              25.000000   \n",
       "\n",
       "       mths_since_recent_revol_delinq  num_accts_ever_120_pd  num_actv_bc_tl  \\\n",
       "count                   123359.000000          350860.000000   350860.000000   \n",
       "mean                        36.664605               0.453574        3.617944   \n",
       "std                         22.252040               1.188576        2.128481   \n",
       "min                          0.000000               0.000000        0.000000   \n",
       "25%                         18.000000               0.000000        2.000000   \n",
       "50%                         34.000000               0.000000        3.000000   \n",
       "75%                         54.000000               0.000000        5.000000   \n",
       "max                        176.000000              30.000000       30.000000   \n",
       "\n",
       "       num_actv_rev_tl    num_bc_sats      num_bc_tl      num_il_tl  \\\n",
       "count    350860.000000  362009.000000  350860.000000  350860.000000   \n",
       "mean          5.601562       4.675914       8.758975       8.462925   \n",
       "std           3.085436       2.733201       4.928854       7.206580   \n",
       "min           0.000000       0.000000       0.000000       0.000000   \n",
       "25%           3.000000       3.000000       5.000000       3.000000   \n",
       "50%           5.000000       4.000000       8.000000       7.000000   \n",
       "75%           7.000000       6.000000      11.000000      11.000000   \n",
       "max          44.000000      57.000000      68.000000     117.000000   \n",
       "\n",
       "       num_op_rev_tl  num_rev_accts  num_rev_tl_bal_gt_0       num_sats  \\\n",
       "count  350860.000000  350860.000000        350860.000000  362009.000000   \n",
       "mean        8.227014      15.288753             5.573300      11.447166   \n",
       "std         4.253441       8.022918             3.042774       5.109417   \n",
       "min         0.000000       0.000000             0.000000       0.000000   \n",
       "25%         5.000000       9.000000             3.000000       8.000000   \n",
       "50%         7.000000      14.000000             5.000000      11.000000   \n",
       "75%        10.000000      19.000000             7.000000      14.000000   \n",
       "max        62.000000     105.000000            42.000000      76.000000   \n",
       "\n",
       "       num_tl_120dpd_2m   num_tl_30dpd  num_tl_90g_dpd_24m  \\\n",
       "count     341768.000000  350860.000000       350860.000000   \n",
       "mean           0.000778       0.003035            0.082742   \n",
       "std            0.030204       0.058720            0.468585   \n",
       "min            0.000000       0.000000            0.000000   \n",
       "25%            0.000000       0.000000            0.000000   \n",
       "50%            0.000000       0.000000            0.000000   \n",
       "75%            0.000000       0.000000            0.000000   \n",
       "max            6.000000       4.000000           24.000000   \n",
       "\n",
       "       num_tl_op_past_12m  pct_tl_nvr_dlq  percent_bc_gt_75  \\\n",
       "count       350860.000000   350768.000000     366396.000000   \n",
       "mean             2.157319       94.778768         49.160904   \n",
       "std              1.766660        7.980122         35.260431   \n",
       "min              0.000000       15.000000          0.000000   \n",
       "25%              1.000000       92.100000         20.000000   \n",
       "50%              2.000000      100.000000         50.000000   \n",
       "75%              3.000000      100.000000         77.800000   \n",
       "max             30.000000      100.000000        100.000000   \n",
       "\n",
       "       pub_rec_bankruptcies      tax_liens  tot_hi_cred_lim  \\\n",
       "count         418094.000000  419354.000000    350860.000000   \n",
       "mean               0.116809       0.030561    169431.299410   \n",
       "std                0.347889       0.279595    171360.617868   \n",
       "min                0.000000       0.000000         0.000000   \n",
       "25%                0.000000       0.000000     47147.750000   \n",
       "50%                0.000000       0.000000    110161.500000   \n",
       "75%                0.000000       0.000000    246674.250000   \n",
       "max                8.000000      53.000000   9999999.000000   \n",
       "\n",
       "       total_bal_ex_mort  total_bc_limit  total_il_high_credit_limit  \\\n",
       "count      370215.000000   370215.000000               350860.000000   \n",
       "mean        46485.698040    20212.645873                38640.474828   \n",
       "std         44009.143834    19942.902618                40181.918309   \n",
       "min             0.000000        0.000000                    0.000000   \n",
       "25%         19978.000000     7300.000000                12875.000000   \n",
       "50%         35286.000000    14100.000000                29151.000000   \n",
       "75%         58581.000000    26300.000000                52300.000000   \n",
       "max       2644442.000000   684000.000000              2101913.000000   \n",
       "\n",
       "       binary_loan_status  \n",
       "count       419459.000000  \n",
       "mean             0.191020  \n",
       "std              0.393105  \n",
       "min              0.000000  \n",
       "25%              0.000000  \n",
       "50%              0.000000  \n",
       "75%              0.000000  \n",
       "max              1.000000  "
      ]
     },
     "execution_count": 11,
     "metadata": {},
     "output_type": "execute_result"
    }
   ],
   "source": [
    "# statistics about numeric columns\n",
    "grp = BinaryLoanData._get_numeric_data().describe().drop(['member_id', 'out_prncp', 'out_prncp_inv', 'total_pymnt', \n",
    "    'total_pymnt_inv', 'total_rec_prncp', 'total_rec_int', 'total_rec_late_fee', 'recoveries', \n",
    "    'collection_recovery_fee', 'last_pymnt_amnt', 'last_fico_range_high', 'last_fico_range_low', \n",
    "    'collections_12_mths_ex_med', 'policy_code'], axis=1)\n",
    "grp "
   ]
  },
  {
   "cell_type": "markdown",
   "metadata": {},
   "source": [
    "Note that some columns are dropped from the above statistics. They are either columns that are not truly numeric (`member_id` and `policy_code`), or columns that relate to loan payments (for example `total_pymnt`, which is the total amount paid by borrowers). \n",
    "\n",
    "#### Columns with anomalies/outliers\n",
    "It is apparent from the above statistics that there are anomalies/outliers in the dataset, for example, max of `annual_inc` (annual income) is over 8.9 million US dollars and is an order of magnitude than the number at 75 percentile. In the following cell, a list of all the columns that having max value 10 times bigger than the 75 percentage value is shown. "
   ]
  },
  {
   "cell_type": "code",
   "execution_count": 12,
   "metadata": {
    "collapsed": false
   },
   "outputs": [
    {
     "data": {
      "text/html": [
       "<div>\n",
       "<table border=\"1\" class=\"dataframe\">\n",
       "  <thead>\n",
       "    <tr style=\"text-align: right;\">\n",
       "      <th></th>\n",
       "      <th>annual_inc</th>\n",
       "      <th>dti</th>\n",
       "      <th>delinq_2yrs</th>\n",
       "      <th>inq_last_6mths</th>\n",
       "      <th>pub_rec</th>\n",
       "      <th>revol_bal</th>\n",
       "      <th>acc_now_delinq</th>\n",
       "      <th>tot_coll_amt</th>\n",
       "      <th>tot_cur_bal</th>\n",
       "      <th>open_il_6m</th>\n",
       "      <th>open_il_12m</th>\n",
       "      <th>mths_since_rcnt_il</th>\n",
       "      <th>total_bal_il</th>\n",
       "      <th>open_rv_12m</th>\n",
       "      <th>max_bal_bc</th>\n",
       "      <th>total_rev_hi_lim</th>\n",
       "      <th>inq_fi</th>\n",
       "      <th>total_cu_tl</th>\n",
       "      <th>avg_cur_bal</th>\n",
       "      <th>bc_open_to_buy</th>\n",
       "      <th>chargeoff_within_12_mths</th>\n",
       "      <th>delinq_amnt</th>\n",
       "      <th>mo_sin_rcnt_rev_tl_op</th>\n",
       "      <th>mo_sin_rcnt_tl</th>\n",
       "      <th>mort_acc</th>\n",
       "      <th>mths_since_recent_bc</th>\n",
       "      <th>num_accts_ever_120_pd</th>\n",
       "      <th>num_il_tl</th>\n",
       "      <th>num_tl_120dpd_2m</th>\n",
       "      <th>num_tl_30dpd</th>\n",
       "      <th>num_tl_90g_dpd_24m</th>\n",
       "      <th>pub_rec_bankruptcies</th>\n",
       "      <th>tax_liens</th>\n",
       "      <th>tot_hi_cred_lim</th>\n",
       "      <th>total_bal_ex_mort</th>\n",
       "      <th>total_bc_limit</th>\n",
       "      <th>total_il_high_credit_limit</th>\n",
       "      <th>binary_loan_status</th>\n",
       "    </tr>\n",
       "  </thead>\n",
       "  <tbody>\n",
       "    <tr>\n",
       "      <th>count</th>\n",
       "      <td>419455.000000</td>\n",
       "      <td>419459.000000</td>\n",
       "      <td>419430.000000</td>\n",
       "      <td>419430.000000</td>\n",
       "      <td>419430.000000</td>\n",
       "      <td>419459.000000</td>\n",
       "      <td>419430.000000</td>\n",
       "      <td>350860.000000</td>\n",
       "      <td>350860.000000</td>\n",
       "      <td>19561.000000</td>\n",
       "      <td>19561.000000</td>\n",
       "      <td>19080.000000</td>\n",
       "      <td>19561.000000</td>\n",
       "      <td>19561.000000</td>\n",
       "      <td>19561.000000</td>\n",
       "      <td>350860.000000</td>\n",
       "      <td>19561.000000</td>\n",
       "      <td>19561.000000</td>\n",
       "      <td>350848.000000</td>\n",
       "      <td>366514.000000</td>\n",
       "      <td>419314.000000</td>\n",
       "      <td>419430.000000</td>\n",
       "      <td>350859.000000</td>\n",
       "      <td>350860.000000</td>\n",
       "      <td>370215.000000</td>\n",
       "      <td>366840.000000</td>\n",
       "      <td>350860.000000</td>\n",
       "      <td>350860.000000</td>\n",
       "      <td>341768.000000</td>\n",
       "      <td>350860.000000</td>\n",
       "      <td>350860.000000</td>\n",
       "      <td>418094.000000</td>\n",
       "      <td>419354.000000</td>\n",
       "      <td>350860.000000</td>\n",
       "      <td>370215.000000</td>\n",
       "      <td>370215.000000</td>\n",
       "      <td>350860.000000</td>\n",
       "      <td>419459.000000</td>\n",
       "    </tr>\n",
       "    <tr>\n",
       "      <th>mean</th>\n",
       "      <td>73680.744953</td>\n",
       "      <td>17.189658</td>\n",
       "      <td>0.273900</td>\n",
       "      <td>0.819405</td>\n",
       "      <td>0.167654</td>\n",
       "      <td>15769.327772</td>\n",
       "      <td>0.003989</td>\n",
       "      <td>206.004831</td>\n",
       "      <td>139415.703372</td>\n",
       "      <td>2.787281</td>\n",
       "      <td>0.963397</td>\n",
       "      <td>18.002463</td>\n",
       "      <td>36856.572108</td>\n",
       "      <td>1.572210</td>\n",
       "      <td>5759.939216</td>\n",
       "      <td>30717.350812</td>\n",
       "      <td>1.153826</td>\n",
       "      <td>1.942999</td>\n",
       "      <td>13609.384959</td>\n",
       "      <td>8949.854778</td>\n",
       "      <td>0.007648</td>\n",
       "      <td>10.070789</td>\n",
       "      <td>12.623872</td>\n",
       "      <td>7.763139</td>\n",
       "      <td>1.816979</td>\n",
       "      <td>23.370527</td>\n",
       "      <td>0.453574</td>\n",
       "      <td>8.462925</td>\n",
       "      <td>0.000778</td>\n",
       "      <td>0.003035</td>\n",
       "      <td>0.082742</td>\n",
       "      <td>0.116809</td>\n",
       "      <td>0.030561</td>\n",
       "      <td>169431.299410</td>\n",
       "      <td>46485.698040</td>\n",
       "      <td>20212.645873</td>\n",
       "      <td>38640.474828</td>\n",
       "      <td>0.191020</td>\n",
       "    </tr>\n",
       "    <tr>\n",
       "      <th>std</th>\n",
       "      <td>62483.073669</td>\n",
       "      <td>23.373579</td>\n",
       "      <td>0.792964</td>\n",
       "      <td>1.097627</td>\n",
       "      <td>0.492376</td>\n",
       "      <td>20994.456939</td>\n",
       "      <td>0.068260</td>\n",
       "      <td>15557.170251</td>\n",
       "      <td>153638.772003</td>\n",
       "      <td>2.969510</td>\n",
       "      <td>1.162154</td>\n",
       "      <td>24.302144</td>\n",
       "      <td>41835.235109</td>\n",
       "      <td>1.674362</td>\n",
       "      <td>5734.498659</td>\n",
       "      <td>35187.798354</td>\n",
       "      <td>1.691736</td>\n",
       "      <td>3.249882</td>\n",
       "      <td>16375.566347</td>\n",
       "      <td>14016.150378</td>\n",
       "      <td>0.100159</td>\n",
       "      <td>600.177775</td>\n",
       "      <td>15.260752</td>\n",
       "      <td>8.567286</td>\n",
       "      <td>2.163521</td>\n",
       "      <td>28.811632</td>\n",
       "      <td>1.188576</td>\n",
       "      <td>7.206580</td>\n",
       "      <td>0.030204</td>\n",
       "      <td>0.058720</td>\n",
       "      <td>0.468585</td>\n",
       "      <td>0.347889</td>\n",
       "      <td>0.279595</td>\n",
       "      <td>171360.617868</td>\n",
       "      <td>44009.143834</td>\n",
       "      <td>19942.902618</td>\n",
       "      <td>40181.918309</td>\n",
       "      <td>0.393105</td>\n",
       "    </tr>\n",
       "    <tr>\n",
       "      <th>min</th>\n",
       "      <td>0.000000</td>\n",
       "      <td>0.000000</td>\n",
       "      <td>0.000000</td>\n",
       "      <td>0.000000</td>\n",
       "      <td>0.000000</td>\n",
       "      <td>0.000000</td>\n",
       "      <td>0.000000</td>\n",
       "      <td>0.000000</td>\n",
       "      <td>0.000000</td>\n",
       "      <td>0.000000</td>\n",
       "      <td>0.000000</td>\n",
       "      <td>0.000000</td>\n",
       "      <td>0.000000</td>\n",
       "      <td>0.000000</td>\n",
       "      <td>0.000000</td>\n",
       "      <td>0.000000</td>\n",
       "      <td>0.000000</td>\n",
       "      <td>0.000000</td>\n",
       "      <td>0.000000</td>\n",
       "      <td>0.000000</td>\n",
       "      <td>0.000000</td>\n",
       "      <td>0.000000</td>\n",
       "      <td>0.000000</td>\n",
       "      <td>0.000000</td>\n",
       "      <td>0.000000</td>\n",
       "      <td>0.000000</td>\n",
       "      <td>0.000000</td>\n",
       "      <td>0.000000</td>\n",
       "      <td>0.000000</td>\n",
       "      <td>0.000000</td>\n",
       "      <td>0.000000</td>\n",
       "      <td>0.000000</td>\n",
       "      <td>0.000000</td>\n",
       "      <td>0.000000</td>\n",
       "      <td>0.000000</td>\n",
       "      <td>0.000000</td>\n",
       "      <td>0.000000</td>\n",
       "      <td>0.000000</td>\n",
       "    </tr>\n",
       "    <tr>\n",
       "      <th>25%</th>\n",
       "      <td>45000.000000</td>\n",
       "      <td>11.140000</td>\n",
       "      <td>0.000000</td>\n",
       "      <td>0.000000</td>\n",
       "      <td>0.000000</td>\n",
       "      <td>5970.000000</td>\n",
       "      <td>0.000000</td>\n",
       "      <td>0.000000</td>\n",
       "      <td>28812.750000</td>\n",
       "      <td>1.000000</td>\n",
       "      <td>0.000000</td>\n",
       "      <td>5.000000</td>\n",
       "      <td>10802.000000</td>\n",
       "      <td>0.000000</td>\n",
       "      <td>2130.000000</td>\n",
       "      <td>13500.000000</td>\n",
       "      <td>0.000000</td>\n",
       "      <td>0.000000</td>\n",
       "      <td>3069.000000</td>\n",
       "      <td>1192.000000</td>\n",
       "      <td>0.000000</td>\n",
       "      <td>0.000000</td>\n",
       "      <td>4.000000</td>\n",
       "      <td>3.000000</td>\n",
       "      <td>0.000000</td>\n",
       "      <td>6.000000</td>\n",
       "      <td>0.000000</td>\n",
       "      <td>3.000000</td>\n",
       "      <td>0.000000</td>\n",
       "      <td>0.000000</td>\n",
       "      <td>0.000000</td>\n",
       "      <td>0.000000</td>\n",
       "      <td>0.000000</td>\n",
       "      <td>47147.750000</td>\n",
       "      <td>19978.000000</td>\n",
       "      <td>7300.000000</td>\n",
       "      <td>12875.000000</td>\n",
       "      <td>0.000000</td>\n",
       "    </tr>\n",
       "    <tr>\n",
       "      <th>50%</th>\n",
       "      <td>63000.000000</td>\n",
       "      <td>16.730000</td>\n",
       "      <td>0.000000</td>\n",
       "      <td>0.000000</td>\n",
       "      <td>0.000000</td>\n",
       "      <td>11118.000000</td>\n",
       "      <td>0.000000</td>\n",
       "      <td>0.000000</td>\n",
       "      <td>80944.500000</td>\n",
       "      <td>2.000000</td>\n",
       "      <td>1.000000</td>\n",
       "      <td>10.000000</td>\n",
       "      <td>25706.000000</td>\n",
       "      <td>1.000000</td>\n",
       "      <td>4285.000000</td>\n",
       "      <td>22800.000000</td>\n",
       "      <td>1.000000</td>\n",
       "      <td>1.000000</td>\n",
       "      <td>7556.000000</td>\n",
       "      <td>3901.000000</td>\n",
       "      <td>0.000000</td>\n",
       "      <td>0.000000</td>\n",
       "      <td>8.000000</td>\n",
       "      <td>5.000000</td>\n",
       "      <td>1.000000</td>\n",
       "      <td>13.000000</td>\n",
       "      <td>0.000000</td>\n",
       "      <td>7.000000</td>\n",
       "      <td>0.000000</td>\n",
       "      <td>0.000000</td>\n",
       "      <td>0.000000</td>\n",
       "      <td>0.000000</td>\n",
       "      <td>0.000000</td>\n",
       "      <td>110161.500000</td>\n",
       "      <td>35286.000000</td>\n",
       "      <td>14100.000000</td>\n",
       "      <td>29151.000000</td>\n",
       "      <td>0.000000</td>\n",
       "    </tr>\n",
       "    <tr>\n",
       "      <th>75%</th>\n",
       "      <td>89124.500000</td>\n",
       "      <td>22.720000</td>\n",
       "      <td>0.000000</td>\n",
       "      <td>1.000000</td>\n",
       "      <td>0.000000</td>\n",
       "      <td>19512.000000</td>\n",
       "      <td>0.000000</td>\n",
       "      <td>0.000000</td>\n",
       "      <td>209293.250000</td>\n",
       "      <td>3.000000</td>\n",
       "      <td>1.000000</td>\n",
       "      <td>19.000000</td>\n",
       "      <td>48562.000000</td>\n",
       "      <td>2.000000</td>\n",
       "      <td>7580.000000</td>\n",
       "      <td>38000.000000</td>\n",
       "      <td>2.000000</td>\n",
       "      <td>3.000000</td>\n",
       "      <td>19104.000000</td>\n",
       "      <td>10580.000000</td>\n",
       "      <td>0.000000</td>\n",
       "      <td>0.000000</td>\n",
       "      <td>15.000000</td>\n",
       "      <td>10.000000</td>\n",
       "      <td>3.000000</td>\n",
       "      <td>28.000000</td>\n",
       "      <td>0.000000</td>\n",
       "      <td>11.000000</td>\n",
       "      <td>0.000000</td>\n",
       "      <td>0.000000</td>\n",
       "      <td>0.000000</td>\n",
       "      <td>0.000000</td>\n",
       "      <td>0.000000</td>\n",
       "      <td>246674.250000</td>\n",
       "      <td>58581.000000</td>\n",
       "      <td>26300.000000</td>\n",
       "      <td>52300.000000</td>\n",
       "      <td>0.000000</td>\n",
       "    </tr>\n",
       "    <tr>\n",
       "      <th>max</th>\n",
       "      <td>8900060.000000</td>\n",
       "      <td>9999.000000</td>\n",
       "      <td>29.000000</td>\n",
       "      <td>33.000000</td>\n",
       "      <td>54.000000</td>\n",
       "      <td>2568995.000000</td>\n",
       "      <td>6.000000</td>\n",
       "      <td>9152545.000000</td>\n",
       "      <td>8000078.000000</td>\n",
       "      <td>31.000000</td>\n",
       "      <td>20.000000</td>\n",
       "      <td>309.000000</td>\n",
       "      <td>796104.000000</td>\n",
       "      <td>28.000000</td>\n",
       "      <td>135471.000000</td>\n",
       "      <td>9999999.000000</td>\n",
       "      <td>23.000000</td>\n",
       "      <td>44.000000</td>\n",
       "      <td>958084.000000</td>\n",
       "      <td>497445.000000</td>\n",
       "      <td>7.000000</td>\n",
       "      <td>76735.000000</td>\n",
       "      <td>372.000000</td>\n",
       "      <td>197.000000</td>\n",
       "      <td>34.000000</td>\n",
       "      <td>554.000000</td>\n",
       "      <td>30.000000</td>\n",
       "      <td>117.000000</td>\n",
       "      <td>6.000000</td>\n",
       "      <td>4.000000</td>\n",
       "      <td>24.000000</td>\n",
       "      <td>8.000000</td>\n",
       "      <td>53.000000</td>\n",
       "      <td>9999999.000000</td>\n",
       "      <td>2644442.000000</td>\n",
       "      <td>684000.000000</td>\n",
       "      <td>2101913.000000</td>\n",
       "      <td>1.000000</td>\n",
       "    </tr>\n",
       "  </tbody>\n",
       "</table>\n",
       "</div>"
      ],
      "text/plain": [
       "           annual_inc            dti    delinq_2yrs  inq_last_6mths  \\\n",
       "count   419455.000000  419459.000000  419430.000000   419430.000000   \n",
       "mean     73680.744953      17.189658       0.273900        0.819405   \n",
       "std      62483.073669      23.373579       0.792964        1.097627   \n",
       "min          0.000000       0.000000       0.000000        0.000000   \n",
       "25%      45000.000000      11.140000       0.000000        0.000000   \n",
       "50%      63000.000000      16.730000       0.000000        0.000000   \n",
       "75%      89124.500000      22.720000       0.000000        1.000000   \n",
       "max    8900060.000000    9999.000000      29.000000       33.000000   \n",
       "\n",
       "             pub_rec       revol_bal  acc_now_delinq    tot_coll_amt  \\\n",
       "count  419430.000000   419459.000000   419430.000000   350860.000000   \n",
       "mean        0.167654    15769.327772        0.003989      206.004831   \n",
       "std         0.492376    20994.456939        0.068260    15557.170251   \n",
       "min         0.000000        0.000000        0.000000        0.000000   \n",
       "25%         0.000000     5970.000000        0.000000        0.000000   \n",
       "50%         0.000000    11118.000000        0.000000        0.000000   \n",
       "75%         0.000000    19512.000000        0.000000        0.000000   \n",
       "max        54.000000  2568995.000000        6.000000  9152545.000000   \n",
       "\n",
       "          tot_cur_bal    open_il_6m   open_il_12m  mths_since_rcnt_il  \\\n",
       "count   350860.000000  19561.000000  19561.000000        19080.000000   \n",
       "mean    139415.703372      2.787281      0.963397           18.002463   \n",
       "std     153638.772003      2.969510      1.162154           24.302144   \n",
       "min          0.000000      0.000000      0.000000            0.000000   \n",
       "25%      28812.750000      1.000000      0.000000            5.000000   \n",
       "50%      80944.500000      2.000000      1.000000           10.000000   \n",
       "75%     209293.250000      3.000000      1.000000           19.000000   \n",
       "max    8000078.000000     31.000000     20.000000          309.000000   \n",
       "\n",
       "        total_bal_il   open_rv_12m     max_bal_bc  total_rev_hi_lim  \\\n",
       "count   19561.000000  19561.000000   19561.000000     350860.000000   \n",
       "mean    36856.572108      1.572210    5759.939216      30717.350812   \n",
       "std     41835.235109      1.674362    5734.498659      35187.798354   \n",
       "min         0.000000      0.000000       0.000000          0.000000   \n",
       "25%     10802.000000      0.000000    2130.000000      13500.000000   \n",
       "50%     25706.000000      1.000000    4285.000000      22800.000000   \n",
       "75%     48562.000000      2.000000    7580.000000      38000.000000   \n",
       "max    796104.000000     28.000000  135471.000000    9999999.000000   \n",
       "\n",
       "             inq_fi   total_cu_tl    avg_cur_bal  bc_open_to_buy  \\\n",
       "count  19561.000000  19561.000000  350848.000000   366514.000000   \n",
       "mean       1.153826      1.942999   13609.384959     8949.854778   \n",
       "std        1.691736      3.249882   16375.566347    14016.150378   \n",
       "min        0.000000      0.000000       0.000000        0.000000   \n",
       "25%        0.000000      0.000000    3069.000000     1192.000000   \n",
       "50%        1.000000      1.000000    7556.000000     3901.000000   \n",
       "75%        2.000000      3.000000   19104.000000    10580.000000   \n",
       "max       23.000000     44.000000  958084.000000   497445.000000   \n",
       "\n",
       "       chargeoff_within_12_mths    delinq_amnt  mo_sin_rcnt_rev_tl_op  \\\n",
       "count             419314.000000  419430.000000          350859.000000   \n",
       "mean                   0.007648      10.070789              12.623872   \n",
       "std                    0.100159     600.177775              15.260752   \n",
       "min                    0.000000       0.000000               0.000000   \n",
       "25%                    0.000000       0.000000               4.000000   \n",
       "50%                    0.000000       0.000000               8.000000   \n",
       "75%                    0.000000       0.000000              15.000000   \n",
       "max                    7.000000   76735.000000             372.000000   \n",
       "\n",
       "       mo_sin_rcnt_tl       mort_acc  mths_since_recent_bc  \\\n",
       "count   350860.000000  370215.000000         366840.000000   \n",
       "mean         7.763139       1.816979             23.370527   \n",
       "std          8.567286       2.163521             28.811632   \n",
       "min          0.000000       0.000000              0.000000   \n",
       "25%          3.000000       0.000000              6.000000   \n",
       "50%          5.000000       1.000000             13.000000   \n",
       "75%         10.000000       3.000000             28.000000   \n",
       "max        197.000000      34.000000            554.000000   \n",
       "\n",
       "       num_accts_ever_120_pd      num_il_tl  num_tl_120dpd_2m   num_tl_30dpd  \\\n",
       "count          350860.000000  350860.000000     341768.000000  350860.000000   \n",
       "mean                0.453574       8.462925          0.000778       0.003035   \n",
       "std                 1.188576       7.206580          0.030204       0.058720   \n",
       "min                 0.000000       0.000000          0.000000       0.000000   \n",
       "25%                 0.000000       3.000000          0.000000       0.000000   \n",
       "50%                 0.000000       7.000000          0.000000       0.000000   \n",
       "75%                 0.000000      11.000000          0.000000       0.000000   \n",
       "max                30.000000     117.000000          6.000000       4.000000   \n",
       "\n",
       "       num_tl_90g_dpd_24m  pub_rec_bankruptcies      tax_liens  \\\n",
       "count       350860.000000         418094.000000  419354.000000   \n",
       "mean             0.082742              0.116809       0.030561   \n",
       "std              0.468585              0.347889       0.279595   \n",
       "min              0.000000              0.000000       0.000000   \n",
       "25%              0.000000              0.000000       0.000000   \n",
       "50%              0.000000              0.000000       0.000000   \n",
       "75%              0.000000              0.000000       0.000000   \n",
       "max             24.000000              8.000000      53.000000   \n",
       "\n",
       "       tot_hi_cred_lim  total_bal_ex_mort  total_bc_limit  \\\n",
       "count    350860.000000      370215.000000   370215.000000   \n",
       "mean     169431.299410       46485.698040    20212.645873   \n",
       "std      171360.617868       44009.143834    19942.902618   \n",
       "min           0.000000           0.000000        0.000000   \n",
       "25%       47147.750000       19978.000000     7300.000000   \n",
       "50%      110161.500000       35286.000000    14100.000000   \n",
       "75%      246674.250000       58581.000000    26300.000000   \n",
       "max     9999999.000000     2644442.000000   684000.000000   \n",
       "\n",
       "       total_il_high_credit_limit  binary_loan_status  \n",
       "count               350860.000000       419459.000000  \n",
       "mean                 38640.474828            0.191020  \n",
       "std                  40181.918309            0.393105  \n",
       "min                      0.000000            0.000000  \n",
       "25%                  12875.000000            0.000000  \n",
       "50%                  29151.000000            0.000000  \n",
       "75%                  52300.000000            0.000000  \n",
       "max                2101913.000000            1.000000  "
      ]
     },
     "execution_count": 12,
     "metadata": {},
     "output_type": "execute_result"
    }
   ],
   "source": [
    "# find out columns with outliers\n",
    "outlier_cols = []\n",
    "for i in range(grp.shape[1]):\n",
    "    if grp.iloc[6,i] * 10 < grp.iloc[7,i]:\n",
    "        outlier_cols.append(grp.columns[i])\n",
    "grp[outlier_cols]"
   ]
  },
  {
   "cell_type": "markdown",
   "metadata": {},
   "source": [
    "There are two types of anomalies here: the first type is outliers in columns such as `annual_inc` and `dti`, where the variables themselves are continuous numeric data and there are extreme large numbers in the dataset; the second type is not really anomality, they are simply columns that are mostly zero (for example because a person has no history of delinquency). These columns can either be kept as it is, or converted to binary or ordinal variables. For example, `delinq_2yrs` (number of delinquencies within last two years) is can be represented by whether a person has delinquency within 2 years or not. "
   ]
  },
  {
   "cell_type": "markdown",
   "metadata": {},
   "source": [
    "#### Non-numeric columns (categorical or text)"
   ]
  },
  {
   "cell_type": "code",
   "execution_count": 13,
   "metadata": {
    "collapsed": false
   },
   "outputs": [
    {
     "data": {
      "text/html": [
       "<div>\n",
       "<table border=\"1\" class=\"dataframe\">\n",
       "  <thead>\n",
       "    <tr style=\"text-align: right;\">\n",
       "      <th></th>\n",
       "      <th>term</th>\n",
       "      <th>int_rate</th>\n",
       "      <th>grade</th>\n",
       "      <th>sub_grade</th>\n",
       "      <th>emp_title</th>\n",
       "      <th>emp_length</th>\n",
       "      <th>home_ownership</th>\n",
       "      <th>verification_status</th>\n",
       "      <th>desc</th>\n",
       "      <th>purpose</th>\n",
       "      <th>title</th>\n",
       "      <th>zip_code</th>\n",
       "      <th>addr_state</th>\n",
       "      <th>earliest_cr_line</th>\n",
       "      <th>revol_util</th>\n",
       "      <th>application_type</th>\n",
       "      <th>verification_status_joint</th>\n",
       "    </tr>\n",
       "  </thead>\n",
       "  <tbody>\n",
       "    <tr>\n",
       "      <th>0</th>\n",
       "      <td>36 months</td>\n",
       "      <td>10.65%</td>\n",
       "      <td>B</td>\n",
       "      <td>B2</td>\n",
       "      <td>NaN</td>\n",
       "      <td>10+ years</td>\n",
       "      <td>RENT</td>\n",
       "      <td>Verified</td>\n",
       "      <td>Borrower added on 12/22/11 &gt; I need to upgra...</td>\n",
       "      <td>credit_card</td>\n",
       "      <td>Computer</td>\n",
       "      <td>860xx</td>\n",
       "      <td>AZ</td>\n",
       "      <td>Jan-1985</td>\n",
       "      <td>83.7%</td>\n",
       "      <td>INDIVIDUAL</td>\n",
       "      <td>NaN</td>\n",
       "    </tr>\n",
       "    <tr>\n",
       "      <th>1</th>\n",
       "      <td>60 months</td>\n",
       "      <td>15.27%</td>\n",
       "      <td>C</td>\n",
       "      <td>C4</td>\n",
       "      <td>Ryder</td>\n",
       "      <td>&lt; 1 year</td>\n",
       "      <td>RENT</td>\n",
       "      <td>Source Verified</td>\n",
       "      <td>Borrower added on 12/22/11 &gt; I plan to use t...</td>\n",
       "      <td>car</td>\n",
       "      <td>bike</td>\n",
       "      <td>309xx</td>\n",
       "      <td>GA</td>\n",
       "      <td>Apr-1999</td>\n",
       "      <td>9.4%</td>\n",
       "      <td>INDIVIDUAL</td>\n",
       "      <td>NaN</td>\n",
       "    </tr>\n",
       "  </tbody>\n",
       "</table>\n",
       "</div>"
      ],
      "text/plain": [
       "         term int_rate grade sub_grade emp_title emp_length home_ownership  \\\n",
       "0   36 months   10.65%     B        B2       NaN  10+ years           RENT   \n",
       "1   60 months   15.27%     C        C4     Ryder   < 1 year           RENT   \n",
       "\n",
       "  verification_status                                               desc  \\\n",
       "0            Verified    Borrower added on 12/22/11 > I need to upgra...   \n",
       "1     Source Verified    Borrower added on 12/22/11 > I plan to use t...   \n",
       "\n",
       "       purpose     title zip_code addr_state earliest_cr_line revol_util  \\\n",
       "0  credit_card  Computer    860xx         AZ         Jan-1985      83.7%   \n",
       "1          car      bike    309xx         GA         Apr-1999       9.4%   \n",
       "\n",
       "  application_type verification_status_joint  \n",
       "0       INDIVIDUAL                       NaN  \n",
       "1       INDIVIDUAL                       NaN  "
      ]
     },
     "execution_count": 13,
     "metadata": {},
     "output_type": "execute_result"
    }
   ],
   "source": [
    "# find columns that are not numeric. Irrelevant columns are dropped.\n",
    "BinaryLoanData.select_dtypes(include=['object']).drop(['id', 'issue_d', 'loan_status', 'pymnt_plan', \n",
    "    'url', 'last_pymnt_d', 'next_pymnt_d', 'last_credit_pull_d', 'initial_list_status'], axis=1).head(2)"
   ]
  },
  {
   "cell_type": "markdown",
   "metadata": {},
   "source": [
    "The rest of columns contain categorical variables, text data, and variables that are supposed to be numeric (for example `int_rate`): \n",
    "- ordinal categorical variables: `term`, `grade`, `sub_grade`, `emp_length`;\n",
    "- simple categorical variables: `home_ownership`, `verification_status`, `application_type` which have only few categories;\n",
    "- complex categorical variables: `zip_code`, `addr_state`. These type of categorical variables have too many categories thus are very sparse if one converts them using one-vs-all techniques. One might use economic data (such as average income) at each state and zip code instead;\n",
    "- columns that should be converted to numeric variables: `int_rate`, `earliest_cr_line` (convert to number of years in credit history), `revol_util`;\n",
    "- text: `emp_title`, `desc`, `purpose`, `title`;\n",
    "\n",
    "The details on processing these columns can be found at Data Preprocessing section."
   ]
  },
  {
   "cell_type": "markdown",
   "metadata": {},
   "source": [
    "### Exploratory Visualization\n",
    "In this section, I selectly visualize a few most important and representative features.\n",
    "#### Representative numeric features\n",
    "Fico score is one of the deciding factors for loan applications. Usually fico scores are gathered from the top three credit scoring agencies. In the lendingclub dataset, a min and max value of fico scores are present for each borrower. In the following figure, the histogram of `fico_range_low` (min value of the fico scores) and the relationship of `fico_range_low` and `fico_range_high` are shown."
   ]
  },
  {
   "cell_type": "code",
   "execution_count": 14,
   "metadata": {
    "collapsed": false
   },
   "outputs": [
    {
     "data": {
      "text/plain": [
       "array([[<matplotlib.axes._subplots.AxesSubplot object at 0x118a3e310>]], dtype=object)"
      ]
     },
     "execution_count": 14,
     "metadata": {},
     "output_type": "execute_result"
    },
    {
     "data": {
      "image/png": "[encoded data removed]",
      "text/plain": [
       "<matplotlib.figure.Figure at 0x126a2bd90>"
      ]
     },
     "metadata": {},
     "output_type": "display_data"
    }
   ],
   "source": [
    "# Histogram of fico_range_low in 50 bins\n",
    "# x-axis: fico_range_low\n",
    "# y-axis: number of borrowers\n",
    "BinaryLoanData.hist('fico_range_low', bins=50)"
   ]
  },
  {
   "cell_type": "code",
   "execution_count": 15,
   "metadata": {
    "collapsed": false
   },
   "outputs": [
    {
     "data": {
      "text/plain": [
       "<matplotlib.text.Text at 0x11e81e1d0>"
      ]
     },
     "execution_count": 15,
     "metadata": {},
     "output_type": "execute_result"
    },
    {
     "data": {
      "image/png": "[encoded data removed]",
      "text/plain": [
       "<matplotlib.figure.Figure at 0x11e81e4d0>"
      ]
     },
     "metadata": {},
     "output_type": "display_data"
    }
   ],
   "source": [
    "# Relationship between fico_range_low and fico_range_high\n",
    "# x-axis: fico_range_low\n",
    "# y-axis: fico_range_high\n",
    "plt.plot(BinaryLoanData.fico_range_low, BinaryLoanData.fico_range_high, '.-k')\n",
    "plt.xlabel('fico_range_low')\n",
    "plt.ylabel('fico_range_high')"
   ]
  },
  {
   "cell_type": "markdown",
   "metadata": {},
   "source": [
    "Its not surprising that lendingclub only approves application with fico score over 600 and the majority of applications having fico score over 650. Further exam of the data (didn't show here) indicates that loans with fico score between 600 and 650 are the one with `loan_status` \"Does not meet the credit policy\" but nevertheless issued. Thus `fico_range_low` has a right screwed distribution. There's a linear relationship between `fico_range_low` and `fico_range_high`, thus only one of them is needed in classification task.\n",
    "\n",
    "To check whether fico score is indeed useful for the classification task, the following figure shows the boxplot of fico score comparing the binary loan status."
   ]
  },
  {
   "cell_type": "code",
   "execution_count": 16,
   "metadata": {
    "collapsed": false
   },
   "outputs": [
    {
     "data": {
      "text/plain": [
       "<matplotlib.axes._subplots.AxesSubplot at 0x11ffbe250>"
      ]
     },
     "execution_count": 16,
     "metadata": {},
     "output_type": "execute_result"
    },
    {
     "data": {
      "image/png": "[encoded data removed]",
      "text/plain": [
       "<matplotlib.figure.Figure at 0x120121210>"
      ]
     },
     "metadata": {},
     "output_type": "display_data"
    }
   ],
   "source": [
    "# Boxplot of fico_range_low comparing two binary_loan_status\n",
    "# x-axis: binary_loan_status\n",
    "# y-axis: fico_range_low\n",
    "BinaryLoanData.boxplot(column='fico_range_low', by='binary_loan_status', showfliers=False)"
   ]
  },
  {
   "cell_type": "markdown",
   "metadata": {},
   "source": [
    "According to the above boxplot, people who fully paid their loan (`binary_loan_status` == 0) has on average higher fico scores of around 690 than that from people who default (`binary_loan_status` == 1 and average fico score 680). Thus fico score is indeed a predicting factor of default. \n",
    "\n",
    "#### Representative categorical features\n",
    "There are several categorical features that are useful for classification task, such as `term`, `home_ownership`, `grade`. In the following figure I select `term` and `grade` as representative categorical features to show that they have predicting power of loan default."
   ]
  },
  {
   "cell_type": "code",
   "execution_count": 17,
   "metadata": {
    "collapsed": false
   },
   "outputs": [
    {
     "data": {
      "text/plain": [
       "<matplotlib.axes._subplots.AxesSubplot at 0x11e81ee50>"
      ]
     },
     "execution_count": 17,
     "metadata": {},
     "output_type": "execute_result"
    },
    {
     "data": {
      "image/png": "[encoded data removed]",
      "text/plain": [
       "<matplotlib.figure.Figure at 0x12fca2190>"
      ]
     },
     "metadata": {},
     "output_type": "display_data"
    }
   ],
   "source": [
    "# Barplot of binary_loan_status comparing two different terms \n",
    "# x-axis: loan term - either 36 months or 60 months\n",
    "# y-axis: number of borrowers in each binary_loan_status and term category\n",
    "BinaryLoanData.groupby(['term', 'binary_loan_status']).size().unstack().plot(kind='bar', stacked=False)"
   ]
  },
  {
   "cell_type": "code",
   "execution_count": 18,
   "metadata": {
    "collapsed": false
   },
   "outputs": [
    {
     "data": {
      "text/plain": [
       "<matplotlib.axes._subplots.AxesSubplot at 0x124d2d410>"
      ]
     },
     "execution_count": 18,
     "metadata": {},
     "output_type": "execute_result"
    },
    {
     "data": {
      "image/png": "[encoded data removed]",
      "text/plain": [
       "<matplotlib.figure.Figure at 0x124cc9950>"
      ]
     },
     "metadata": {},
     "output_type": "display_data"
    }
   ],
   "source": [
    "# Barplot of binary_loan_status comparing sever different grades from A to G\n",
    "# x-axis: loan grade - from A to G\n",
    "# y-axis: number of borrowers in each binary_loan_status and grade category\n",
    "BinaryLoanData.groupby(['grade', 'binary_loan_status']).size().unstack().plot(kind='bar', stacked=False)"
   ]
  },
  {
   "cell_type": "markdown",
   "metadata": {},
   "source": [
    "The above two barplots show that term and grade have predicting power over who default. The ratio of default is higher for loan term 60 months than 36 months; and the ratio of default increases with higher grade. \n",
    "\n",
    "#### Time series \n",
    "The loan dataset is also a time series with loan initiated different months and years. Here I plot the average loan default rate as a funcition of loan issued date (once per month)."
   ]
  },
  {
   "cell_type": "code",
   "execution_count": 19,
   "metadata": {
    "collapsed": false
   },
   "outputs": [
    {
     "name": "stderr",
     "output_type": "stream",
     "text": [
      "/Users/bdcoe/anaconda/lib/python2.7/site-packages/pandas/core/generic.py:2387: SettingWithCopyWarning: \n",
      "A value is trying to be set on a copy of a slice from a DataFrame.\n",
      "Try using .loc[row_indexer,col_indexer] = value instead\n",
      "\n",
      "See the caveats in the documentation: http://pandas.pydata.org/pandas-docs/stable/indexing.html#indexing-view-versus-copy\n",
      "  self[name] = value\n"
     ]
    },
    {
     "data": {
      "text/plain": [
       "<matplotlib.axes._subplots.AxesSubplot at 0x125deee50>"
      ]
     },
     "execution_count": 19,
     "metadata": {},
     "output_type": "execute_result"
    },
    {
     "data": {
      "image/png": "[encoded data removed]",
      "text/plain": [
       "<matplotlib.figure.Figure at 0x12504dc50>"
      ]
     },
     "metadata": {},
     "output_type": "display_data"
    }
   ],
   "source": [
    "# Average loan default rate as a function of issue_d\n",
    "# x-axis: issue date\n",
    "# y-axis: average loan default rate\n",
    "BinaryLoanData.issue_d = pd.to_datetime(BinaryLoanData.issue_d)\n",
    "BinaryLoanData.groupby('issue_d').agg(np.mean).binary_loan_status.plot()"
   ]
  },
  {
   "cell_type": "markdown",
   "metadata": {},
   "source": [
    "The above plot shows that the default rate is high around 2008, and gradually decreases and has less fluctuations from 2009 to mid-2013, and increases after 2014. The reason for the high loan default rate around 2008 is due to financial crisis. The reason for high loan default rate after 2014 is: a typical loan lasts 3 to 5 years, for loans initiated after 2014 most of people are still paying (thus removed from the dataset) and people who already default is included in the dataset and over-represents the population. "
   ]
  },
  {
   "cell_type": "markdown",
   "metadata": {},
   "source": [
    "\n",
    "### Algorithms and Techniques\n",
    "The loan dataset is a time-series dataset with over 400,000 rows and imbalanced data (20% of data belongs to one class), has both numeric and categorical features.\n",
    "\n",
    "#### Classification algorithms\n",
    "There are many machine learning algorithms to perform classification. Since the current dataset is relatively large with over 400,000 rows, algorithms such as Support Vector Machine and K-nearest Neighbor will take too long to train and won't be used here. Here I intend to use Naive Bayes, Logistic Regression and Ensemble Methods (Random Forest), all available in sklearn.\n",
    "\n",
    "##### Naive Bayes\n",
    "Naive Bayes methods are a set of supervised learning algorithms based on applying Bayes’ theorem with the “naive” assumption of independence between every pair of features. In spite of their apparently over-simplified assumptions, naive Bayes classifiers have worked quite well in many real-world situations, famously document classification and spam filtering. [http://scikit-learn.org/stable/modules/naive_bayes.html]. \n",
    "\n",
    "In this project I intend to use Gaussian Naive Bayes classification method implemented in scikit-learn. Gaussian Naive Bayes assumes the likelihood of the features to be Gaussian. There's only one parameter for the algorithm: the class prior. The default value for class prior is the probably of each class, which is a reasonable assumption here.\n",
    "\n",
    "##### Logistic Regression\n",
    "Logistic Regression is a method to estimate the probability of a binary response based on one or more independent variables. Logistic function can be written as \n",
    "\n",
    "<center> $\\displaystyle F(x) = \\frac{1}{1+e^{-{\\beta_0 + \\beta_1 x}}}$ </center>\n",
    "\n",
    "where $x$ are independent variables, and $F(x)$ is the probability of the dependent variable to be predicted. As one can see from the above logistic function, only linear relationship between the independent variables are taken into account, thus the model can't capture any non-linear relationship between features. \n",
    "\n",
    "One of the problem with logistic regression is that coefficients $\\beta_i$ are unbound and can take extreme values, making other features useless and model unstable. There are several ways to introduce regularization. Here I use the logistic regression method implemented in scikit-learn, in which $C$ and `penalty` are the regularization parameters. $C$ is a numeric continuous value inserted into logistic function and the default value is 1. `penalty` takes two choices: L1 and L2 regularization with the default value being L2 regularization. L1 regularization is very useful if one needs to reduce dimensions of features since it tends to produce more zero coefficients. \n",
    "\n",
    "Since the class is not balanced in the lendingclub dataset, I also plan to tune the `class_weight` parameter available in the logistic regression method in scikit-learn. The default value is None; one can also choose 'balanced' or define their own class_weight.\n",
    "\n",
    "##### Random Forest\n",
    "Ensemble Methods combine the results of many base models (weak learners), can handle categorical variables and outliers very well, and can handle non-linear relationship between features. Although its relatively slower to train compared to Naive Bayes or Logistic Regression, the training time is still reasonable given the current dataset size. \n",
    "\n",
    "In this project I chose Random Forest, which combines the results of many decision trees. Decision trees are a non-parametric supervised learning method used for classification and regression. The goal is to create a model that predicts the value of a target variable by learning simple decision rules inferred from the data features [http://scikit-learn.org/stable/modules/tree.html]. Decision trees tend to overfit the data. In the extreme case of a decision tree having one leaf for every data point, the training precision will be 100%, but the result won't be able to generalize. Random forest combines multiple such decision trees and optimize the combined model. \n",
    "\n",
    "As discussed above, the major problem for decision trees and random forest is overfitting. There are several parameters to tune in random forest implementation in scikit-learn: `n_estimators` (number of trees to grow), `min_samples_split` (minimum number of data points to split a tree), `min_samples_leaf` (minimum number of data points for leaf). In addition, I also plan to tune `max_features` (maximum number of features to use to split tree), `bootstrap` (whether bootstrap samples are used when building trees). The reason for bootstrap is because the data is imbalanced and one can use bootstrap to enhance the representation of the class with less data.  \n",
    "\n",
    "#### Under or over-sampling for imbalanced data\n",
    "The loan dataset is imbalanced with 20% representing one class. I intend to use under or over-sampling techniques, implemented in the `imbalanced-learn` package [http://contrib.scikit-learn.org/imbalanced-learn/index.html] and compare the modeling result with the one without sampling. In both under and over-sampling technique, the returned data has balanced class label of 50% for each binary class. \n",
    "\n",
    "#### Rolling cross valication on time-series data\n",
    "With time-series data, if random or stratified cross-validation split is performed, we might end up predicting earlier loans using later loans, which is not reasonable. A better way is to perform rolling cross validation (forward chaining) according to Ref. [10], where set 1-6 are time-ordered data: \n",
    "- fold 1 : training [1], test [2]\n",
    "- fold 2 : training [1 2], test [3]\n",
    "- fold 3 : training [1 2 3], test [4]\n",
    "- fold 4 : training [1 2 3 4], test [5]\n",
    "- fold 5 : training [1 2 3 4 5], test [6]\n",
    "\n",
    "scikit-learn provides time-series split for rolling cross validation: http://scikit-learn.org/stable/modules/generated/sklearn.model_selection.TimeSeriesSplit.html\n",
    "\n",
    "### Benchmark\n",
    "One baseline benchmark result is the one from random guessing or always predicting one class for all data:"
   ]
  },
  {
   "cell_type": "code",
   "execution_count": 20,
   "metadata": {
    "collapsed": false
   },
   "outputs": [
    {
     "name": "stdout",
     "output_type": "stream",
     "text": [
      "AUC from random guessing : 0.500215060303\n",
      "AUC from always predicting default : 0.500495302301\n"
     ]
    }
   ],
   "source": [
    "from sklearn import metrics \n",
    "\n",
    "y_test = BinaryLoanData.binary_loan_status\n",
    "np.random.seed(random_state)\n",
    "\n",
    "y_predict = np.random.uniform(low=0, high=1, size=len(BinaryLoanData))\n",
    "print 'AUC from random guessing :', metrics.roc_auc_score(y_test, y_predict)\n",
    "\n",
    "y_predict = np.random.uniform(low=0.5, high=1, size=len(BinaryLoanData))\n",
    "print 'AUC from always predicting default :', metrics.roc_auc_score(y_test, y_predict)\n"
   ]
  },
  {
   "cell_type": "markdown",
   "metadata": {},
   "source": [
    "As shown above, random guessing or always predicting one label give AUC slightly better than 0.5. \n",
    "\n",
    "There are also previous machine learning results using lendingclub loan data to compare with: \n",
    "- Ref [3]: AUC 0.698\n",
    "- Ref [5]: AUC 0.732\n",
    "- Ref [6]: AUC 0.713\n",
    "\n"
   ]
  },
  {
   "cell_type": "markdown",
   "metadata": {},
   "source": [
    "## III. Methodology\n",
    "\n",
    "### Data Preprocessing\n",
    "In this section, all the data preprocessing steps are documented. \n",
    "#### Convert numeric variables to correct format \n",
    "`int_rate` and `revol_util` are supposedly numeric variables, however, it was loaded as if they are string since they have '%' in the data. Here I convert them into the correct numeric format. "
   ]
  },
  {
   "cell_type": "code",
   "execution_count": 21,
   "metadata": {
    "collapsed": false
   },
   "outputs": [],
   "source": [
    "# Remove % from int_rate and revol_util and convert them to float number\n",
    "BinaryLoanData.int_rate = BinaryLoanData.int_rate.str.replace('%', '').astype(float) / 100.\n",
    "BinaryLoanData.revol_util = BinaryLoanData.revol_util.str.replace('%', '').astype(float) / 100."
   ]
  },
  {
   "cell_type": "markdown",
   "metadata": {},
   "source": [
    "#### Convert datetime variable to usable numerical variable\n",
    "`earliest_cr_line` is a datetime variable indicating the earliest credit line a borrower has. Here I convert it to number of years with credit history `cr_num_years`."
   ]
  },
  {
   "cell_type": "code",
   "execution_count": 22,
   "metadata": {
    "collapsed": false
   },
   "outputs": [
    {
     "name": "stderr",
     "output_type": "stream",
     "text": [
      "/Users/bdcoe/anaconda/lib/python2.7/site-packages/ipykernel/__main__.py:8: SettingWithCopyWarning: \n",
      "A value is trying to be set on a copy of a slice from a DataFrame.\n",
      "Try using .loc[row_indexer,col_indexer] = value instead\n",
      "\n",
      "See the caveats in the documentation: http://pandas.pydata.org/pandas-docs/stable/indexing.html#indexing-view-versus-copy\n"
     ]
    }
   ],
   "source": [
    "# convert earliest_cr_line to number of years of credit history cr_num_years\n",
    "from datetime import datetime\n",
    "def get_cr_num_years(x):\n",
    "    return x.issue_d.year - x.earliest_cr_line.year\n",
    "\n",
    "BinaryLoanData.issue_d = pd.to_datetime(BinaryLoanData.issue_d)\n",
    "BinaryLoanData.earliest_cr_line = pd.to_datetime(BinaryLoanData.earliest_cr_line)\n",
    "BinaryLoanData['cr_num_years'] = BinaryLoanData.apply(get_cr_num_years, axis=1)"
   ]
  },
  {
   "cell_type": "markdown",
   "metadata": {},
   "source": [
    "#### Convert ordinal variables to numeric variables\n",
    "`term`, `grade` and `subgrade` are ordinal variables and are simply converted to ordered numeric values. Instead of over-writting the existing data, I created new columns with old variable name appended with `_c` indicating that they are converted. "
   ]
  },
  {
   "cell_type": "code",
   "execution_count": 23,
   "metadata": {
    "collapsed": false
   },
   "outputs": [
    {
     "name": "stderr",
     "output_type": "stream",
     "text": [
      "/Users/bdcoe/anaconda/lib/python2.7/site-packages/ipykernel/__main__.py:21: SettingWithCopyWarning: \n",
      "A value is trying to be set on a copy of a slice from a DataFrame.\n",
      "Try using .loc[row_indexer,col_indexer] = value instead\n",
      "\n",
      "See the caveats in the documentation: http://pandas.pydata.org/pandas-docs/stable/indexing.html#indexing-view-versus-copy\n",
      "/Users/bdcoe/anaconda/lib/python2.7/site-packages/ipykernel/__main__.py:22: SettingWithCopyWarning: \n",
      "A value is trying to be set on a copy of a slice from a DataFrame.\n",
      "Try using .loc[row_indexer,col_indexer] = value instead\n",
      "\n",
      "See the caveats in the documentation: http://pandas.pydata.org/pandas-docs/stable/indexing.html#indexing-view-versus-copy\n",
      "/Users/bdcoe/anaconda/lib/python2.7/site-packages/ipykernel/__main__.py:23: SettingWithCopyWarning: \n",
      "A value is trying to be set on a copy of a slice from a DataFrame.\n",
      "Try using .loc[row_indexer,col_indexer] = value instead\n",
      "\n",
      "See the caveats in the documentation: http://pandas.pydata.org/pandas-docs/stable/indexing.html#indexing-view-versus-copy\n"
     ]
    }
   ],
   "source": [
    "# convert term, grade and sub_grade to nominal category variables with numeric data\n",
    "def convert_term_to_category(x):\n",
    "    if x == ' 36 months':\n",
    "        return 0\n",
    "    elif x == ' 60 months':\n",
    "        return 1\n",
    "    else:\n",
    "        return \n",
    "\n",
    "# sort grade\n",
    "grades = sorted(pd.unique(BinaryLoanData.grade))\n",
    "def convert_grade_to_category(x):\n",
    "    return grades.index(x)\n",
    "\n",
    "# sort sub_grade\n",
    "subgrades = sorted(pd.unique(BinaryLoanData.sub_grade))\n",
    "def convert_subgrade_to_category(x):\n",
    "    return subgrades.index(x)\n",
    "\n",
    "# create new columns for these ordered numeric variables\n",
    "BinaryLoanData['term_c'] = BinaryLoanData.term.apply(convert_term_to_category)\n",
    "BinaryLoanData['grade_c'] = BinaryLoanData.grade.apply(convert_grade_to_category)\n",
    "BinaryLoanData['sub_grade_c'] = BinaryLoanData.sub_grade.apply(convert_subgrade_to_category)\n"
   ]
  },
  {
   "cell_type": "markdown",
   "metadata": {},
   "source": [
    "#### Convert nominal variables to ordered numeric variables\n",
    "`home_ownership` has multiple classes, however, according to the average binary loan status in each class shown in the next cell, class MORTGAGE, NONE has relatively lower default rate, class OWN has intermediate default rate, and class RENT and OTHER have higher default rate. Here I group them into ordered numeric values and store the data in a new column `home_ownership_c`. Note, class ANY has too few data points so I group them together with class MORTGAGE and NONE. "
   ]
  },
  {
   "cell_type": "code",
   "execution_count": 24,
   "metadata": {
    "collapsed": false
   },
   "outputs": [
    {
     "data": {
      "text/plain": [
       "home_ownership\n",
       "ANY         0.000000\n",
       "MORTGAGE    0.166703\n",
       "NONE        0.166667\n",
       "OTHER       0.212291\n",
       "OWN         0.198244\n",
       "RENT        0.218987\n",
       "Name: binary_loan_status, dtype: float64"
      ]
     },
     "execution_count": 24,
     "metadata": {},
     "output_type": "execute_result"
    }
   ],
   "source": [
    "# Examine the available categories in home_ownership, and find out the average of binary_loan_status in each category\n",
    "BinaryLoanData.groupby('home_ownership').agg(np.mean).binary_loan_status"
   ]
  },
  {
   "cell_type": "code",
   "execution_count": 25,
   "metadata": {
    "collapsed": false
   },
   "outputs": [
    {
     "name": "stderr",
     "output_type": "stream",
     "text": [
      "/Users/bdcoe/anaconda/lib/python2.7/site-packages/ipykernel/__main__.py:11: SettingWithCopyWarning: \n",
      "A value is trying to be set on a copy of a slice from a DataFrame.\n",
      "Try using .loc[row_indexer,col_indexer] = value instead\n",
      "\n",
      "See the caveats in the documentation: http://pandas.pydata.org/pandas-docs/stable/indexing.html#indexing-view-versus-copy\n"
     ]
    }
   ],
   "source": [
    "# convert home_ownership to ordinal category variable with numeric values\n",
    "# Combine ANY, MORTGAGE, NONE into one class\n",
    "def convert_home_ownership_to_category(x):\n",
    "    if (x == 'RENT') or (x == 'OTHER'):\n",
    "        return 2\n",
    "    elif (x == 'OWN'):\n",
    "        return 1\n",
    "    else:\n",
    "        return 0\n",
    "    \n",
    "BinaryLoanData['home_ownership_c'] = BinaryLoanData.home_ownership.apply(convert_home_ownership_to_category)"
   ]
  },
  {
   "cell_type": "markdown",
   "metadata": {},
   "source": [
    "#### Combine similar classes in categorical variables and convert to numeric variables\n",
    "`verification_status` has three classes, Not Verified, Source Verified and Verified. The last two classes are in fact the same class. They are combined and converted to numerical variable `verification_status_c`."
   ]
  },
  {
   "cell_type": "code",
   "execution_count": 26,
   "metadata": {
    "collapsed": false
   },
   "outputs": [
    {
     "data": {
      "text/plain": [
       "verification_status\n",
       "Not Verified       0.145025\n",
       "Source Verified    0.208214\n",
       "Verified           0.217667\n",
       "Name: binary_loan_status, dtype: float64"
      ]
     },
     "execution_count": 26,
     "metadata": {},
     "output_type": "execute_result"
    }
   ],
   "source": [
    "BinaryLoanData.groupby('verification_status').binary_loan_status.mean()"
   ]
  },
  {
   "cell_type": "code",
   "execution_count": 27,
   "metadata": {
    "collapsed": false
   },
   "outputs": [
    {
     "name": "stderr",
     "output_type": "stream",
     "text": [
      "/Users/bdcoe/anaconda/lib/python2.7/site-packages/ipykernel/__main__.py:7: SettingWithCopyWarning: \n",
      "A value is trying to be set on a copy of a slice from a DataFrame.\n",
      "Try using .loc[row_indexer,col_indexer] = value instead\n",
      "\n",
      "See the caveats in the documentation: http://pandas.pydata.org/pandas-docs/stable/indexing.html#indexing-view-versus-copy\n"
     ]
    }
   ],
   "source": [
    "# convert verification_status to category variable\n",
    "def convert_verification_status_to_category(x):\n",
    "    if (x == 'Source Verified') or (x == 'Verified'):\n",
    "        return 1\n",
    "    else:\n",
    "        return 0\n",
    "BinaryLoanData['verification_status_c'] = \\\n",
    "   BinaryLoanData.verification_status.apply(convert_verification_status_to_category) "
   ]
  },
  {
   "cell_type": "markdown",
   "metadata": {},
   "source": [
    "#### Convert ordinal variables with missing data to numeric values\n",
    "`emp_length` is an ordinal variable indicating length of employment ranging from not available/unemployed, less than 1 year, to a list of 1 to 9 years and 10+ years (see the next cell for a list of all classes). Among them, 1-9 years are simply converted to their corresponding numerical values; while '< 1 year', '10+ year' and 'n/a' have to be dealt separately. Here I convert '< 1 year' to 0.5, '10+ year' to 10. Since 'n/a' has an average higher rate of default (0.27 compared to around 0.19 for other classes), I create a dummy variable for 'n/a': `emp_length_isnull`."
   ]
  },
  {
   "cell_type": "code",
   "execution_count": 28,
   "metadata": {
    "collapsed": false
   },
   "outputs": [
    {
     "data": {
      "text/plain": [
       "emp_length\n",
       "1 year       0.191891\n",
       "10+ years    0.180178\n",
       "2 years      0.185584\n",
       "3 years      0.187893\n",
       "4 years      0.186932\n",
       "5 years      0.185352\n",
       "6 years      0.192613\n",
       "7 years      0.191391\n",
       "8 years      0.195156\n",
       "9 years      0.197072\n",
       "< 1 year     0.200117\n",
       "n/a          0.268698\n",
       "Name: binary_loan_status, dtype: float64"
      ]
     },
     "execution_count": 28,
     "metadata": {},
     "output_type": "execute_result"
    }
   ],
   "source": [
    "# Get a list of all classes for emp_length, and get the average loan default rate for each class\n",
    "BinaryLoanData.groupby('emp_length').agg(np.mean).binary_loan_status"
   ]
  },
  {
   "cell_type": "code",
   "execution_count": 29,
   "metadata": {
    "collapsed": false
   },
   "outputs": [
    {
     "name": "stderr",
     "output_type": "stream",
     "text": [
      "/Users/bdcoe/anaconda/lib/python2.7/site-packages/ipykernel/__main__.py:14: SettingWithCopyWarning: \n",
      "A value is trying to be set on a copy of a slice from a DataFrame.\n",
      "Try using .loc[row_indexer,col_indexer] = value instead\n",
      "\n",
      "See the caveats in the documentation: http://pandas.pydata.org/pandas-docs/stable/indexing.html#indexing-view-versus-copy\n",
      "/Users/bdcoe/anaconda/lib/python2.7/site-packages/ipykernel/__main__.py:15: SettingWithCopyWarning: \n",
      "A value is trying to be set on a copy of a slice from a DataFrame.\n",
      "Try using .loc[row_indexer,col_indexer] = value instead\n",
      "\n",
      "See the caveats in the documentation: http://pandas.pydata.org/pandas-docs/stable/indexing.html#indexing-view-versus-copy\n"
     ]
    }
   ],
   "source": [
    "# convert employee length to numeric values, and create a dummy variable for whether the borrower is employed\n",
    "dummy_number = 999\n",
    "def convert_emp_length_to_category(x):\n",
    "    a = x.replace(' years', '').replace(' year', '')\n",
    "    if a == 'n/a':\n",
    "        return dummy_number\n",
    "    elif a == '< 1':\n",
    "        return 0.5\n",
    "    elif a == '10+':\n",
    "        return 10.0\n",
    "    else:\n",
    "        return float(a)\n",
    "\n",
    "BinaryLoanData['emp_length_isnull'] = (BinaryLoanData.emp_length == 'n/a').astype(int)\n",
    "BinaryLoanData['emp_length_c'] = BinaryLoanData.emp_length.apply(convert_emp_length_to_category)\n"
   ]
  },
  {
   "cell_type": "markdown",
   "metadata": {},
   "source": [
    "#### Convert nominal variables using 1-vs-K method\n",
    "`purpose` is a nominal variable with multi-classes indicating the purpose of the loan. The following cell shows the average default rate for each purpose class. Some of the classes have significantly lower default rate such as car and wedding (around 0.13) compared to others such as small_business (0.30). Although there are classes having similar default rate, here I choose not to combine them because there is no simple meaning for such combination. I will convert them using 1-vs-K method and create K number of variables, with K being the number of unique purpose.  "
   ]
  },
  {
   "cell_type": "code",
   "execution_count": 30,
   "metadata": {
    "collapsed": false
   },
   "outputs": [
    {
     "data": {
      "text/plain": [
       "purpose\n",
       "car                   0.129619\n",
       "credit_card           0.163493\n",
       "debt_consolidation    0.201184\n",
       "educational           0.208038\n",
       "home_improvement      0.164478\n",
       "house                 0.186916\n",
       "major_purchase        0.155348\n",
       "medical               0.216939\n",
       "moving                0.225153\n",
       "other                 0.209307\n",
       "renewable_energy      0.216802\n",
       "small_business        0.296827\n",
       "vacation              0.191849\n",
       "wedding               0.127145\n",
       "Name: binary_loan_status, dtype: float64"
      ]
     },
     "execution_count": 30,
     "metadata": {},
     "output_type": "execute_result"
    }
   ],
   "source": [
    "BinaryLoanData.groupby('purpose').agg(np.mean).binary_loan_status"
   ]
  },
  {
   "cell_type": "code",
   "execution_count": 31,
   "metadata": {
    "collapsed": false
   },
   "outputs": [
    {
     "name": "stderr",
     "output_type": "stream",
     "text": [
      "/Users/bdcoe/anaconda/lib/python2.7/site-packages/ipykernel/__main__.py:6: SettingWithCopyWarning: \n",
      "A value is trying to be set on a copy of a slice from a DataFrame.\n",
      "Try using .loc[row_indexer,col_indexer] = value instead\n",
      "\n",
      "See the caveats in the documentation: http://pandas.pydata.org/pandas-docs/stable/indexing.html#indexing-view-versus-copy\n"
     ]
    }
   ],
   "source": [
    "# convert purposes into one-of-K encoding\n",
    "# one can also use sklearn oneHotEncoder, but it needs the data first to be transformed into numeric value, and\n",
    "# then use OneHotEncoder, and has to rename the columns as well. \n",
    "purposes = pd.unique(BinaryLoanData.purpose)\n",
    "for item in purposes:\n",
    "    BinaryLoanData['purpose_%s'%(item)] = (BinaryLoanData.purpose == item).astype(int)"
   ]
  },
  {
   "cell_type": "markdown",
   "metadata": {},
   "source": [
    "#### Create dummy variables for some columns with NULL values\n",
    "`mths_since_last_record` and `mths_since_last_delinq` are numerical variables that have meaningful NULL values (if a borrow doesn't have public record or delinquency, these columns are NULL), and don't have systematic data missing in the earlier loans (details on how to get these columns are in the following subsections). Here I create dummy variables `mths_since_last_record_isnull` and `mths_since_last_delinq_isnull` to represent them, and fill the NULL values with a dummy number."
   ]
  },
  {
   "cell_type": "code",
   "execution_count": 32,
   "metadata": {
    "collapsed": false
   },
   "outputs": [
    {
     "name": "stdout",
     "output_type": "stream",
     "text": [
      "        mths_since_last_record,  0.19,  0.21\n",
      "        mths_since_last_delinq,  0.19,  0.20"
     ]
    },
    {
     "name": "stderr",
     "output_type": "stream",
     "text": [
      "/Users/bdcoe/anaconda/lib/python2.7/site-packages/ipykernel/__main__.py:3: SettingWithCopyWarning: \n",
      "A value is trying to be set on a copy of a slice from a DataFrame.\n",
      "Try using .loc[row_indexer,col_indexer] = value instead\n",
      "\n",
      "See the caveats in the documentation: http://pandas.pydata.org/pandas-docs/stable/indexing.html#indexing-view-versus-copy\n",
      "  app.launch_new_instance()\n",
      "/Users/bdcoe/anaconda/lib/python2.7/site-packages/ipykernel/__main__.py:4: SettingWithCopyWarning: \n",
      "A value is trying to be set on a copy of a slice from a DataFrame.\n",
      "Try using .loc[row_indexer,col_indexer] = value instead\n",
      "\n",
      "See the caveats in the documentation: http://pandas.pydata.org/pandas-docs/stable/indexing.html#indexing-view-versus-copy\n"
     ]
    },
    {
     "name": "stdout",
     "output_type": "stream",
     "text": [
      "\n"
     ]
    },
    {
     "name": "stderr",
     "output_type": "stream",
     "text": [
      "/Users/bdcoe/anaconda/lib/python2.7/site-packages/ipykernel/__main__.py:5: SettingWithCopyWarning: \n",
      "A value is trying to be set on a copy of a slice from a DataFrame.\n",
      "Try using .loc[row_indexer,col_indexer] = value instead\n",
      "\n",
      "See the caveats in the documentation: http://pandas.pydata.org/pandas-docs/stable/indexing.html#indexing-view-versus-copy\n"
     ]
    }
   ],
   "source": [
    "for col in ('mths_since_last_record', 'mths_since_last_delinq'):\n",
    "    print '%30s, %5.2f, %5.2f'%(col, BinaryLoanData[BinaryLoanData[col].isnull()].binary_loan_status.mean(), \\\n",
    "                                     BinaryLoanData[BinaryLoanData[col].notnull()].binary_loan_status.mean() ) \n",
    "    BinaryLoanData[col+'_isnull'] = BinaryLoanData[col].isnull().astype(int)\n",
    "BinaryLoanData['mths_since_last_record'] = BinaryLoanData.mths_since_last_record.fillna(dummy_number)\n",
    "BinaryLoanData['mths_since_last_delinq'] = BinaryLoanData.mths_since_last_delinq.fillna(dummy_number)"
   ]
  },
  {
   "cell_type": "markdown",
   "metadata": {},
   "source": [
    "`desc`, `title`, `emp_title` are text variables with NULL values, while `annual_inc_joint` is numerical variables with NULL values. According to the following cell, average default loan rates are different between borrows who provided those data and who do not. Here I convert each into a dummy variable representing whether that column is null or not. One can still use the text in `desc`, `title` and `emp_title` as features, as done in Ref. [1], but here I discard them for simplicity. "
   ]
  },
  {
   "cell_type": "code",
   "execution_count": 33,
   "metadata": {
    "collapsed": false
   },
   "outputs": [
    {
     "name": "stdout",
     "output_type": "stream",
     "text": [
      "                          desc,  0.20,  0.16\n",
      "                         title,  0.10,  0.19\n",
      "                     emp_title,  0.26,  0.19\n",
      "              annual_inc_joint,  0.19,  0.09\n"
     ]
    },
    {
     "name": "stderr",
     "output_type": "stream",
     "text": [
      "/Users/bdcoe/anaconda/lib/python2.7/site-packages/ipykernel/__main__.py:3: SettingWithCopyWarning: \n",
      "A value is trying to be set on a copy of a slice from a DataFrame.\n",
      "Try using .loc[row_indexer,col_indexer] = value instead\n",
      "\n",
      "See the caveats in the documentation: http://pandas.pydata.org/pandas-docs/stable/indexing.html#indexing-view-versus-copy\n",
      "  app.launch_new_instance()\n"
     ]
    }
   ],
   "source": [
    "for col in ('desc', 'title', 'emp_title', 'annual_inc_joint'):\n",
    "    print '%30s, %5.2f, %5.2f'%(col, BinaryLoanData[BinaryLoanData[col].isnull()].binary_loan_status.mean(), \\\n",
    "                                     BinaryLoanData[BinaryLoanData[col].notnull()].binary_loan_status.mean() ) \n",
    "    BinaryLoanData[col+'_isnull'] = BinaryLoanData[col].isnull().astype(int)"
   ]
  },
  {
   "cell_type": "markdown",
   "metadata": {},
   "source": [
    "#### List of columns to be dropped\n",
    "This list includes \n",
    "- cols_irrelevant: irrelevant columns (such as `id`) and columns that shall not be used for classification (such as `total_pymnt`), see the comments in the following cell for details;\n",
    "- cols_notused: columns that are not used in this study, but may be converted to econometric values in future study;\n",
    "- cols_duplidated_info: columns that contain duplicated information in other columns;\n",
    "- cols_converted: columns that are converted (for example, `term` is converted to `term_c`) so the original columns are not used instead the new columns are used; "
   ]
  },
  {
   "cell_type": "code",
   "execution_count": 34,
   "metadata": {
    "collapsed": true
   },
   "outputs": [],
   "source": [
    "cols_irrelevant = ['id', 'member_id', 'policy_code', # id, member_id and policy code are meaningless\n",
    "    'funded_amnt', 'funded_amnt_inv', # funded amount and funded amount for investors. With manual investing, \n",
    "                                      # one only gets information on loan_amnt, so these two columns are irrelevant\n",
    "    'loan_status', # the original loan_status is converted to binary_loan_status column, so this one is not used        \n",
    "    'pymnt_plan', 'url', 'initial_list_status', # payment plan, url of the loan, initial list status are irrelevant\n",
    "    'out_prncp', 'out_prncp_inv', 'total_pymnt', # Remaining outstanding principle of the loan and the part for investor\n",
    "                                                 # total payment are irrelevant for classification\n",
    "    'total_pymnt_inv', 'total_rec_prncp', 'total_rec_int', 'total_rec_late_fee', 'recoveries', \n",
    "    # total payment to investors, total principle and interest received, late fees and recoveries fees are irrelevant \n",
    "    'collection_recovery_fee', 'next_pymnt_d', 'last_pymnt_amnt', 'last_pymnt_d', \n",
    "    # collections on recovery fee, next payment date, last payment amount and date are irrelevant\n",
    "    'last_credit_pull_d', 'last_fico_range_high', 'last_fico_range_low']\n",
    "    # last date credit history was pulled and fico scores. These are the fico scores pulled recently in 2016\n",
    "    # and shall not be used in classification.\n",
    "\n",
    "# These columns are not used in this study, but might be converted to econometric values \n",
    "# such as average income in certain zip codes and states.\n",
    "cols_notused = ['zip_code', 'addr_state', ]\n",
    "\n",
    "# columns contain duplicated information\n",
    "cols_duplicated_info = ['fico_range_high', # fico_range_high is linearly correlated with fico_range_low\n",
    "                        'dti_joint', 'verification_status_joint', # same information as annual_inc_joint\n",
    "                        'application_type' # same information as annual_inc_joint\n",
    "                       ]\n",
    "\n",
    "# these columns are converted to new columns and the original columns are thus dropped\n",
    "cols_converted = ['term', 'grade', 'sub_grade', 'home_ownership', 'emp_length', 'mths_since_last_record',\n",
    "                  'mths_since_last_delinq', 'desc', 'title', 'emp_title', 'purpose',\n",
    "                  'annual_inc_joint', 'verification_status', 'earliest_cr_line']\n"
   ]
  },
  {
   "cell_type": "markdown",
   "metadata": {},
   "source": [
    "#### Columns with systematic data missing in early loans\n",
    "There are a number of columns that are not populated in early loan data. In the following cell, I found out these columns, and will drop the columns that have at least 10% data missing in early loans. "
   ]
  },
  {
   "cell_type": "code",
   "execution_count": 35,
   "metadata": {
    "collapsed": false
   },
   "outputs": [],
   "source": [
    "# Remove columns that are not populated in the early loan data, \n",
    "# and columns that have high percentage of missing values\n",
    "def percentage_initial_data_missing(x):\n",
    "    c = 0\n",
    "    for i in x:\n",
    "        if pd.isnull(i):\n",
    "            c += 1\n",
    "        else:\n",
    "            return float(c) / len(x)\n",
    "    return float(c) / len(x)\n",
    "\n",
    "# get list of columns with over 0.1% null values\n",
    "countNull = BinaryLoanData.drop(cols_irrelevant + cols_notused + \n",
    "                cols_duplicated_info, axis=1).isnull().sum() / len(BinaryLoanData)\n",
    "colNull = countNull[countNull > 0.001].index\n",
    "\n",
    "# from these columns, get the columns that have at least 10% data thats not populated in early loans. \n",
    "cols_initial_data_missing = []\n",
    "for col in colNull:\n",
    "    p1 = percentage_initial_data_missing(BinaryLoanData[col])\n",
    "    if  p1 > 0.1:\n",
    "        cols_initial_data_missing.append(col)\n",
    "        #print '%30s, %5.2f'%(col, p1)\n"
   ]
  },
  {
   "cell_type": "markdown",
   "metadata": {},
   "source": [
    "#### Remove outliers and drop columns\n",
    "In the Data Exploration section, I have identified that annual_inc, dti and revol_bal are numeric variables with outliers. It's unclear whether those extreme large values are reasonable values or something is wrong in the data (for example, typos). As a result,  I remove these outliers according to a quantile_threshold: all the data beyond 99.7 percentile for each column are removed. \n",
    "\n",
    "Columns to be dropped are a combined list of cols_irrelevant, cols_notused, cols_duplicated_info, cols_converted and cols_initial_data_missing. "
   ]
  },
  {
   "cell_type": "code",
   "execution_count": 36,
   "metadata": {
    "collapsed": true
   },
   "outputs": [],
   "source": [
    "# Generate the final list for all the columns to be dropped\n",
    "cols_todrop = cols_irrelevant + cols_notused + cols_duplicated_info + cols_converted + cols_initial_data_missing "
   ]
  },
  {
   "cell_type": "code",
   "execution_count": 37,
   "metadata": {
    "collapsed": false
   },
   "outputs": [],
   "source": [
    "# Remove outliers for annual_inc, dti and revol_bal according to quantile_threshold. \n",
    "quantile_threshold = 0.997\n",
    "ReducedLoanData = BinaryLoanData[(BinaryLoanData.annual_inc < BinaryLoanData.annual_inc.quantile(quantile_threshold))\n",
    "    & (BinaryLoanData.dti < BinaryLoanData.dti.quantile(quantile_threshold))\n",
    "    & (BinaryLoanData.revol_bal < BinaryLoanData.revol_bal.quantile(quantile_threshold))\n",
    "    ].drop(cols_todrop, axis=1)"
   ]
  },
  {
   "cell_type": "markdown",
   "metadata": {},
   "source": [
    "#### Convert some columns with outliers to ordinal variables\n",
    "`delinq_2yrs`, `inq_last_6mths`, `pub_rec`, `delinq_amnt` and `tax_liens` have mainly zero values and a few large values which still seem reasonable so I don't throw these data away. Machine learning algorithms that are distance based such as support vector machine is very sensitive to large values. As a result I convert them to new ordinal variables according to a quantile_threshold: all zero data will be class 0, all data larger than 0 but smaller than 95 percentile of all non-zero data will be class 1, and the rest will be class 2. Depends on the machine learning algorithms, I will choose to use the original numeric variables if the algorithm is insensitive to outliers such as random forest, or the new ordinal variables if the algorithm is distance based. "
   ]
  },
  {
   "cell_type": "code",
   "execution_count": 38,
   "metadata": {
    "collapsed": false
   },
   "outputs": [],
   "source": [
    "def convert_numeric_to_ordinal(x):\n",
    "    if x == 0:\n",
    "        return 0\n",
    "    elif x > 0 and x <= q:\n",
    "        return 1\n",
    "    else:\n",
    "        return 2\n",
    "quantile_threshold2 = 0.95\n",
    "for col in ('delinq_2yrs', 'inq_last_6mths', 'pub_rec', 'delinq_amnt', 'tax_liens'):\n",
    "    q = ReducedLoanData[ReducedLoanData[col] > 0][col].quantile(quantile_threshold2)\n",
    "    ReducedLoanData[col+'_c'] = ReducedLoanData[col].apply(convert_numeric_to_ordinal)"
   ]
  },
  {
   "cell_type": "markdown",
   "metadata": {},
   "source": [
    "#### Remove some rows with systematic data missing\n",
    "There are 25 rows having delinq_2yrs, earliest_cr_line, inq_last_6mths, open_acc, pub_rec, total_acc all missing. Here I remove these rows."
   ]
  },
  {
   "cell_type": "code",
   "execution_count": 39,
   "metadata": {
    "collapsed": true
   },
   "outputs": [],
   "source": [
    "ReducedLoanData = ReducedLoanData[ReducedLoanData.delinq_2yrs.notnull()]"
   ]
  },
  {
   "cell_type": "markdown",
   "metadata": {},
   "source": [
    "#### Fill NA values in some columns\n",
    "revol_util column has a number of missing values. Since revol_util is highly correlated with revol_bal, I divide revol_bal into buckets of $10000 interval, and fill the missing revol_util with the average revol_util in the corresponding bucket of revol_bal. "
   ]
  },
  {
   "cell_type": "code",
   "execution_count": 40,
   "metadata": {
    "collapsed": false
   },
   "outputs": [],
   "source": [
    "# infer missing revol_bal using the mean revol_bal of whom with revol_bal in the same bucket\n",
    "# (using every $10000 as a bucket)\n",
    "def revol_util_fillna(x):\n",
    "    if pd.isnull(x.revol_util):\n",
    "        if x.revol_bal == 0:\n",
    "            return 0\n",
    "        else:\n",
    "            return ReducedLoanData[ReducedLoanData.revol_bal // 10000 == x.revol_bal // 10000].revol_util.mean()\n",
    "    else:\n",
    "        return x.revol_util\n",
    "ReducedLoanData.revol_util = ReducedLoanData.apply(revol_util_fillna, axis=1)"
   ]
  },
  {
   "cell_type": "markdown",
   "metadata": {},
   "source": [
    "For `collections_12_mths_ex_med`, `chargeoff_within_12_mths`, `pub_rec_bankruptcies` and `tax_liens`, the percentage of data missing is much less than 0.3%, and there is no clear way to infer this data from other columns, thus I simiply fill them with 0. "
   ]
  },
  {
   "cell_type": "code",
   "execution_count": 41,
   "metadata": {
    "collapsed": false
   },
   "outputs": [
    {
     "name": "stdout",
     "output_type": "stream",
     "text": [
      "                           col, percentage of data missing\n",
      "    collections_12_mths_ex_med, 0.0003\n",
      "      chargeoff_within_12_mths, 0.0003\n",
      "          pub_rec_bankruptcies, 0.0032\n",
      "                     tax_liens, 0.0002\n"
     ]
    }
   ],
   "source": [
    "print '%30s, %25s'%('col', 'percentage of data missing')\n",
    "for col in ('collections_12_mths_ex_med', \n",
    "           'chargeoff_within_12_mths',  'pub_rec_bankruptcies', 'tax_liens'):\n",
    "    print '%30s, %6.4f'%(col, ReducedLoanData[col].isnull().sum() / float(len(ReducedLoanData)))\n",
    "    ReducedLoanData[col] = ReducedLoanData[col].fillna(0)"
   ]
  },
  {
   "cell_type": "markdown",
   "metadata": {},
   "source": [
    "#### Feature transformation\n",
    "Finally feature scaling is applied here. "
   ]
  },
  {
   "cell_type": "code",
   "execution_count": 42,
   "metadata": {
    "collapsed": false
   },
   "outputs": [],
   "source": [
    "from sklearn.preprocessing import StandardScaler\n",
    "\n",
    "Y = ReducedLoanData.binary_loan_status.values\n",
    "\n",
    "tmp = ReducedLoanData.drop(['binary_loan_status', 'issue_d', 'delinq_2yrs', 'inq_last_6mths', \n",
    "                                'pub_rec', 'delinq_amnt', 'tax_liens'], axis=1)\n",
    "ScaledX = StandardScaler().fit_transform(tmp)"
   ]
  },
  {
   "cell_type": "markdown",
   "metadata": {},
   "source": [
    "### Implementation\n",
    "The implementation process consists of \n",
    "1. spliting training and testing dataset using n-fold forward chaining \n",
    "2. resample the dataset so that there are equal number of class labels\n",
    "3. perform machine learning and record training and testing scores\n",
    "\n",
    "#### Implement resampling\n",
    "A python library `imblearn` [http://contrib.scikit-learn.org/imbalanced-learn/index.html] is used for resampling of the loan data so the class label are more balanced. The simplest resampling methods are `RandomUnderSampler` and `RandomOverSampler`."
   ]
  },
  {
   "cell_type": "code",
   "execution_count": 43,
   "metadata": {
    "collapsed": true
   },
   "outputs": [],
   "source": [
    "from imblearn.under_sampling import RandomUnderSampler\n",
    "from imblearn.over_sampling import ADASYN, SMOTE, RandomOverSampler\n",
    "\n",
    "def resampling(Xall, Yall, rus=None):\n",
    "    # An example of resampler is : \n",
    "    # rus = RandomUnderSampler(random_state=random_state)\n",
    "    # if rus is provided, perform resampling \n",
    "    if rus is not None:\n",
    "        Xres, yres = rus.fit_sample(Xall, Yall)\n",
    "    else: # otherwise, return original data\n",
    "        Xres, yres = Xall, Yall\n",
    "    return Xres, yres"
   ]
  },
  {
   "cell_type": "markdown",
   "metadata": {},
   "source": [
    "#### Implement rolling cross-validation (n-fold forward chaining)\n",
    "`sklearn` provides a function `TimeSeriesSplit` to perform train/test split using n-fold forward chaining. The following function `get_cv_score` takes all the features, labels, classifier, and resampler as input, resample the data, train the classifier, perform n-fold forward chaining cross-validation, and return the corresponding training and testing scores using the area under curve (auc) metric. "
   ]
  },
  {
   "cell_type": "code",
   "execution_count": 44,
   "metadata": {
    "collapsed": true
   },
   "outputs": [],
   "source": [
    "from sklearn.model_selection import TimeSeriesSplit\n",
    "\n",
    "def get_cv_score(Xall, Yall, clf, n_splits=5, rus=None):\n",
    "    # ---- INPUT -----\n",
    "    # Xall: features\n",
    "    # Yall: class labels\n",
    "    # clf: classifier object\n",
    "    # rus: resampler object\n",
    "    \n",
    "    # create time series train/test split object\n",
    "    tscv = TimeSeriesSplit(n_splits=n_splits)\n",
    "    # initiate arrays to record training and testing scores.\n",
    "    train_score = []\n",
    "    test_score = []\n",
    "    # loop over all train/test sets\n",
    "    for train_index, test_index in tscv.split(Xall):\n",
    "        # obtain train and test data\n",
    "        X_train = Xall[train_index]\n",
    "        X_test = Xall[test_index]\n",
    "        y_train = Yall[train_index]\n",
    "        y_test = Yall[test_index]\n",
    "    \n",
    "        # resample train and test set separately\n",
    "        Xres_train, yres_train = resampling(X_train, y_train, rus)\n",
    "        Xres_test, yres_test = resampling(X_test, y_test, rus)\n",
    "        \n",
    "        # train the classifier\n",
    "        clf.fit(Xres_train, yres_train)\n",
    "        \n",
    "        # record train and test scores for each fold\n",
    "        train_score.append(metrics.roc_auc_score(yres_train, clf.predict_proba(Xres_train)[:,1]))\n",
    "        test_score.append(metrics.roc_auc_score(yres_test, clf.predict_proba(Xres_test)[:,1]))\n",
    "    \n",
    "    # return average score for all folds\n",
    "    return np.mean(train_score), np.mean(test_score)"
   ]
  },
  {
   "cell_type": "markdown",
   "metadata": {},
   "source": [
    "#### Perform training and report train/test scores\n",
    "Here I chose three machine learning methods (Naive Bayes, Logistic Regression and Random Forest), justified in the Algorithms and Techniques section, to perform the classification. Default parameters for these methods are used. Refinement of the model will be reported in the Refinement section. I also chose three different resampling methods (None, random under sampling and random over sampling) to balence the dataset. Finally, 5-fold rolling cross-validation results are reported for both training and testing set for each classifier and resampler."
   ]
  },
  {
   "cell_type": "code",
   "execution_count": 45,
   "metadata": {
    "collapsed": false
   },
   "outputs": [
    {
     "name": "stdout",
     "output_type": "stream",
     "text": [
      "               Classifier,                Resampling :  Training score, Cross-validation score\n",
      "               GaussianNB,                  NoneType :        0.666,        0.663\n",
      "               GaussianNB,        RandomUnderSampler :        0.667,        0.664\n",
      "               GaussianNB,         RandomOverSampler :        0.666,        0.664\n",
      "       LogisticRegression,                  NoneType :        0.706,        0.705\n",
      "       LogisticRegression,        RandomUnderSampler :        0.707,        0.704\n",
      "       LogisticRegression,         RandomOverSampler :        0.706,        0.704\n",
      "   RandomForestClassifier,                  NoneType :        1.000,        0.639\n",
      "   RandomForestClassifier,        RandomUnderSampler :        0.999,        0.653\n",
      "   RandomForestClassifier,         RandomOverSampler :        1.000,        0.646\n"
     ]
    }
   ],
   "source": [
    "from sklearn.naive_bayes import GaussianNB\n",
    "from sklearn.linear_model import LogisticRegression\n",
    "from sklearn.ensemble import RandomForestClassifier, AdaBoostClassifier\n",
    "\n",
    "clf1 = GaussianNB()\n",
    "clf2 = LogisticRegression(random_state=random_state)\n",
    "clf3 = RandomForestClassifier(random_state=random_state)\n",
    "\n",
    "rus1 = RandomUnderSampler(random_state=random_state)\n",
    "rus2 = RandomOverSampler(random_state=random_state)\n",
    "\n",
    "def get_class_name(a):\n",
    "    return a.__class__.__name__\n",
    "\n",
    "print '%25s, %25s : %15s, %15s'%('Classifier', 'Resampling', 'Training score', 'Cross-validation score')\n",
    "for clf in ([clf1, clf2, clf3]):\n",
    "    for rus in ([None, rus1, rus2]):\n",
    "        auc = get_cv_score(ScaledX, Y, clf, 5, rus)\n",
    "        print '%25s, %25s : %12.3f, %12.3f'%(get_class_name(clf), get_class_name(rus), auc[0], auc[1])"
   ]
  },
  {
   "cell_type": "markdown",
   "metadata": {},
   "source": [
    "With default parameters from `sklearn`, Logistic Regression performs the best, followed by Naive Bayes, and Random Forest performs the worst. The training and testing scores are similar using Naive Bayes and Logisitic Regression. On the other hand, for Random Forest, there's a large gap between training and testing score, meaning Random Forest siginficantly overfit, and model parameters shall be used to enhance the model performance. There's little difference among different resampling methods. "
   ]
  },
  {
   "cell_type": "markdown",
   "metadata": {},
   "source": [
    "### Refinement\n",
    "In this section, I chose to optimize logistic regression and random forest parameters to see whether model result improves. See random under and over sampling result in little improvement over cv score, I chose to drop them in the refinement process.\n",
    "\n",
    "#### Optimize logistic regression parameters\n",
    "The main concern for logistic regression is overfitting, and one might need to tune regularization parameters to prevent overfitting. According to the results in the previous Implementation section, the training and cross-validation scores are similar at around 0.705, suggesting that there's no overfitting with the default model parameters. In the following cell I also examined the coefficients for logistic regression model: the coefficients are from -0.3 to 0.3 and no extreme values are present, also indicating that the model is not overfitting. Nevertheless, I still performed a grid search to find the best estimator and score. "
   ]
  },
  {
   "cell_type": "code",
   "execution_count": 46,
   "metadata": {
    "collapsed": false
   },
   "outputs": [
    {
     "data": {
      "text/plain": [
       "(array([  2.,   2.,   2.,   7.,  20.,   8.,   2.,   2.,   0.,   2.]),\n",
       " array([-0.21157315, -0.16133496, -0.11109677, -0.06085858, -0.01062039,\n",
       "         0.0396178 ,  0.08985599,  0.14009418,  0.19033237,  0.24057056,\n",
       "         0.29080875]),\n",
       " <a list of 10 Patch objects>)"
      ]
     },
     "execution_count": 46,
     "metadata": {},
     "output_type": "execute_result"
    },
    {
     "data": {
      "image/png": "[encoded data removed]",
      "text/plain": [
       "<matplotlib.figure.Figure at 0x124b5a250>"
      ]
     },
     "metadata": {},
     "output_type": "display_data"
    }
   ],
   "source": [
    "# visualize the histogram of logistic regression model coeffcients\n",
    "plt.hist(clf2.coef_[0])"
   ]
  },
  {
   "cell_type": "code",
   "execution_count": 47,
   "metadata": {
    "collapsed": false
   },
   "outputs": [
    {
     "data": {
      "text/plain": [
       "GridSearchCV(cv=TimeSeriesSplit(n_splits=5), error_score='raise',\n",
       "       estimator=LogisticRegression(C=1.0, class_weight=None, dual=False, fit_intercept=True,\n",
       "          intercept_scaling=1, max_iter=100, multi_class='ovr', n_jobs=1,\n",
       "          penalty='l2', random_state=46, solver='liblinear', tol=0.0001,\n",
       "          verbose=0, warm_start=False),\n",
       "       fit_params={}, iid=True, n_jobs=1,\n",
       "       param_grid={'C': [0.1, 0.5, 1.0, 5.0], 'class_weight': [None, 'balanced']},\n",
       "       pre_dispatch='2*n_jobs', refit=True, return_train_score=True,\n",
       "       scoring=make_scorer(score_function, needs_proba=True), verbose=0)"
      ]
     },
     "execution_count": 47,
     "metadata": {},
     "output_type": "execute_result"
    }
   ],
   "source": [
    "# perform GridSearch for logistic regression\n",
    "from sklearn.model_selection import GridSearchCV\n",
    "\n",
    "parameters = {'C': [ 0.1, 0.5, 1., 5.], \n",
    "              'class_weight': [None, 'balanced'], \n",
    "             }\n",
    "\n",
    "# Initialize the classifier\n",
    "clf = LogisticRegression(random_state=random_state)\n",
    "\n",
    "# clf.predict_proba() returns a matrix of (nrow, nclass), and here I have to choose one column as y_predict\n",
    "def score_function(y_true, y_predict, ):\n",
    "    return metrics.roc_auc_score(y_true, y_predict[:, 1])\n",
    "\n",
    "# Make an f1 scoring function using 'make_scorer' \n",
    "auc_scorer = metrics.make_scorer(score_function, needs_proba=True)\n",
    "\n",
    "# train-test split \n",
    "tscv = TimeSeriesSplit(n_splits=5)\n",
    "\n",
    "# Perform grid search on the classifier using the f1_scorer as the scoring method\n",
    "grid_obj = GridSearchCV(clf, param_grid=parameters, scoring=auc_scorer, cv=tscv)\n",
    "\n",
    "grid_obj.fit(ScaledX, Y)"
   ]
  },
  {
   "cell_type": "code",
   "execution_count": 48,
   "metadata": {
    "collapsed": false
   },
   "outputs": [
    {
     "name": "stdout",
     "output_type": "stream",
     "text": [
      "Best Estimator : LogisticRegression(C=0.1, class_weight='balanced', dual=False,\n",
      "          fit_intercept=True, intercept_scaling=1, max_iter=100,\n",
      "          multi_class='ovr', n_jobs=1, penalty='l2', random_state=46,\n",
      "          solver='liblinear', tol=0.0001, verbose=0, warm_start=False)\n",
      "Best Score : 0.70472962696\n",
      "All Scores : [ 0.70462495  0.70472963  0.70459994  0.70471147  0.70458925  0.70470353\n",
      "  0.70456702  0.70468965]\n"
     ]
    }
   ],
   "source": [
    "# Get the best estimator, score, and a list of scores for all models\n",
    "print 'Best Estimator :', grid_obj.best_estimator_\n",
    "print 'Best Score :', grid_obj.best_score_\n",
    "print 'All Scores :', grid_obj.cv_results_['mean_test_score']"
   ]
  },
  {
   "cell_type": "markdown",
   "metadata": {},
   "source": [
    "In the GridSearchCV, I used 8 different combinations of parameters. The cv scores are similar at around 0.705 for all models. Essentially the model results are not improved by tuning regularization parameter C nor introducing class weights. \n",
    "\n",
    "#### Optimize random forest parameters\n",
    "In the previous Implementation section, random forest model gives training scores of almost 1 and cv scores around 0.64, indicating that there are significant overfitting with the default model parameters. In this section, we optimize parameters for random forest classifier. "
   ]
  },
  {
   "cell_type": "code",
   "execution_count": 52,
   "metadata": {
    "collapsed": false
   },
   "outputs": [
    {
     "name": "stdout",
     "output_type": "stream",
     "text": [
      "RandomForestClassifier(bootstrap=False, class_weight=None, criterion='gini',\n",
      "            max_depth=None, max_features=5, max_leaf_nodes=None,\n",
      "            min_impurity_split=1e-07, min_samples_leaf=28,\n",
      "            min_samples_split=17, min_weight_fraction_leaf=0.0,\n",
      "            n_estimators=204, n_jobs=-1, oob_score=False, random_state=46,\n",
      "            verbose=0, warm_start=False)\n",
      "0.707752896271\n",
      "RandomForestClassifier(bootstrap=True, class_weight=None, criterion='gini',\n",
      "            max_depth=None, max_features=5, max_leaf_nodes=None,\n",
      "            min_impurity_split=1e-07, min_samples_leaf=1,\n",
      "            min_samples_split=80, min_weight_fraction_leaf=0.0,\n",
      "            n_estimators=250, n_jobs=-1, oob_score=False, random_state=46,\n",
      "            verbose=0, warm_start=False)\n",
      "0.707055267628\n"
     ]
    }
   ],
   "source": [
    "# Perform GridSearch for random forest\n",
    "# Two different grid search techniques are performed: one is randomized grid search, \n",
    "# and the other is standard grid search\n",
    "from sklearn.model_selection import RandomizedSearchCV\n",
    "from scipy.stats import randint as sp_randint\n",
    "\n",
    "clf = RandomForestClassifier(random_state=random_state, n_jobs=-1)\n",
    "\n",
    "# Perform randomized grid search \n",
    "# define distribution\n",
    "param_dist = {\n",
    "              \"n_estimators\": sp_randint(50, 250),\n",
    "              \"max_features\": sp_randint(5, 47),\n",
    "              \"min_samples_split\": sp_randint(10, 100),\n",
    "              \"min_samples_leaf\": sp_randint(10, 100),\n",
    "              \"bootstrap\": [True, False],\n",
    "              \"criterion\": [\"gini\", ]}\n",
    "\n",
    "# run randomized search\n",
    "n_iter_search = 20\n",
    "grid_obj1 = RandomizedSearchCV(clf, param_distributions=param_dist, scoring=auc_scorer, cv=tscv, \n",
    "                                   n_iter=n_iter_search, random_state=random_state)\n",
    "grid_obj1.fit(ScaledX, Y)\n",
    "\n",
    "\n",
    "# Get the best estimator and score\n",
    "print grid_obj1.best_estimator_\n",
    "print grid_obj1.best_score_\n",
    "\n",
    "# Perform standard grid search\n",
    "parameters = {\"n_estimators\": [150, 250],\n",
    "              \"max_features\": [5, 10, 20, 40],\n",
    "              \"min_samples_split\": [20, 50, 80],\n",
    "              \"criterion\": [\"gini\", ]}\n",
    "grid_obj2 = GridSearchCV(clf, param_grid=parameters, scoring=auc_scorer, cv=tscv)\n",
    "\n",
    "grid_obj2.fit(ScaledX, Y)\n",
    "\n",
    "# Get the estimator\n",
    "print grid_obj2.best_estimator_\n",
    "print grid_obj2.best_score_"
   ]
  },
  {
   "cell_type": "markdown",
   "metadata": {},
   "source": [
    "The best scores are similar for RandomziedSearchCV and GridSearchCV, and also similar to the best score from Logistic Regression. The fact that there's little improvement for random forest compared to logistic regression suggests that there aren't much non-linear combinations of features that have predictive power here. "
   ]
  },
  {
   "cell_type": "markdown",
   "metadata": {},
   "source": [
    "\n",
    "## IV. Results\n",
    "\n",
    "### Model Evaluation and Validation\n",
    "According to the Refinement section, there's little difference in cv scores between Logistic Regression and Random Forest. Even though the differences in cv scores are very small, yet I chose the model with the best cv score, which is a random forest model obtained with RandomizedSearchCV.\n",
    "\n",
    "#### Feature Importance\n",
    "In this section, I rank features according to their importance in the best random forest model. "
   ]
  },
  {
   "cell_type": "code",
   "execution_count": 70,
   "metadata": {
    "collapsed": false
   },
   "outputs": [
    {
     "name": "stdout",
     "output_type": "stream",
     "text": [
      "Feature ranking:\n",
      "Feature sub_grade_c (0.139436)\n",
      "Feature int_rate (0.128899)\n",
      "Feature grade_c (0.114816)\n",
      "Feature dti (0.079587)\n",
      "Feature annual_inc (0.065485)\n",
      "Feature term_c (0.065099)\n",
      "Feature fico_range_low (0.048565)\n",
      "Feature installment (0.046026)\n",
      "Feature revol_util (0.044511)\n",
      "Feature loan_amnt (0.040633)\n",
      "Feature revol_bal (0.040533)\n",
      "Feature total_acc (0.029343)\n",
      "Feature cr_num_years (0.026091)\n",
      "Feature open_acc (0.022939)\n",
      "Feature emp_length_c (0.022389)\n",
      "Feature home_ownership_c (0.020259)\n",
      "Feature verification_status_c (0.012622)\n",
      "Feature inq_last_6mths_c (0.008603)\n",
      "Feature desc_isnull (0.006650)\n",
      "Feature mths_since_last_delinq_isnull (0.005678)\n",
      "Feature purpose_debt_consolidation (0.004729)\n",
      "Feature emp_title_isnull (0.003906)\n",
      "Feature emp_length_isnull (0.003801)\n",
      "Feature purpose_credit_card (0.003334)\n",
      "Feature delinq_2yrs_c (0.003208)\n",
      "Feature purpose_small_business (0.002456)\n",
      "Feature mths_since_last_record_isnull (0.002146)\n",
      "Feature pub_rec_bankruptcies (0.002078)\n",
      "Feature pub_rec_c (0.002051)\n",
      "Feature purpose_other (0.001170)\n",
      "Feature purpose_home_improvement (0.000953)\n",
      "Feature tax_liens_c (0.000464)\n",
      "Feature purpose_major_purchase (0.000260)\n",
      "Feature collections_12_mths_ex_med (0.000236)\n",
      "Feature purpose_medical (0.000187)\n",
      "Feature purpose_wedding (0.000183)\n",
      "Feature purpose_car (0.000144)\n",
      "Feature title_isnull (0.000117)\n",
      "Feature purpose_moving (0.000115)\n",
      "Feature purpose_house (0.000106)\n",
      "Feature purpose_vacation (0.000075)\n",
      "Feature chargeoff_within_12_mths (0.000053)\n",
      "Feature acc_now_delinq (0.000026)\n",
      "Feature delinq_amnt_c (0.000020)\n",
      "Feature annual_inc_joint_isnull (0.000009)\n",
      "Feature purpose_educational (0.000007)\n",
      "Feature purpose_renewable_energy (0.000003)\n"
     ]
    },
    {
     "data": {
      "image/png": "[encoded data removed]",
      "text/plain": [
       "<matplotlib.figure.Figure at 0x1146b5a90>"
      ]
     },
     "metadata": {},
     "output_type": "display_data"
    }
   ],
   "source": [
    "# get feature importance scores from the best random forest model\n",
    "feature_importance = grid_obj1.best_estimator_.feature_importances_\n",
    "# get the corresonding column names\n",
    "columns = ReducedLoanData.drop(['binary_loan_status', 'issue_d', 'delinq_2yrs', 'inq_last_6mths', \n",
    "                                'pub_rec', 'delinq_amnt', 'tax_liens'], axis=1).columns\n",
    "# get the standard deviation of these feature importance scores\n",
    "std = np.std([tree.feature_importances_ for tree in grid_obj1.best_estimator_], axis=0)\n",
    "# sort the feature importance scores\n",
    "indices = np.argsort(feature_importance)[::-1]\n",
    "\n",
    "# Print sorted feature ranking\n",
    "print(\"Feature ranking:\")\n",
    "for i in range(len(columns)):\n",
    "    print(\"Feature %s (%f)\" % (columns[indices[i]], feature_importance[indices[i]]))\n",
    "\n",
    "# Plot the feature importances of the forest\n",
    "plt.figure()\n",
    "# visualize only the top 15 important features\n",
    "top_n = 15\n",
    "plt.title(\"Feature importances (top %d features)\"%(top_n), fontsize=14)\n",
    "plt.barh(range(top_n), feature_importance[indices][:top_n],\n",
    "       color=\"r\", yerr=std[indices][:top_n], align=\"center\")\n",
    "plt.yticks(range(top_n), columns[indices][:top_n], fontsize=12)\n",
    "plt.ylim([-1, top_n])\n",
    "plt.gca().invert_yaxis()\n",
    "plt.show()"
   ]
  },
  {
   "cell_type": "markdown",
   "metadata": {},
   "source": [
    "The most important features here are mostly loan related features such as `sub_grade`, `int_rate`, `grade`, `term` (36 or 60 months), `installment`, `loan_amnt`; and borrow credit related features such as `dti` (debt to income ratio), `annual_inc`,  `fico_range_low` (fico score), `revol_util`, `revol_bal`, `tot_acc`, `cr_num_years`, `open_acc`, `emp_length`. In fact the top three important features are all loan related features. This is not surprising since borrower's credit related features determined the grade and interest rate of their loan. These most important features are in agreement with previous lendingclub data analysis. \n",
    "\n",
    "#### Sensitivity Analysis\n",
    "In this section, I perform sensitivity analysis to check how classification results change upon small pertubations over the input data. Specifically, I add a small pertubation `delta` to each feature, and calculate the change in cv score. "
   ]
  },
  {
   "cell_type": "code",
   "execution_count": 93,
   "metadata": {
    "collapsed": false
   },
   "outputs": [],
   "source": [
    "# perform sensitivity analysis\n",
    "# for each feature, add a small perturbation delta to that feature and check how much score changes \n",
    "def sensitivity_analysis(Xall, Yall, clf, cv=tscv, delta=0.01):\n",
    "    # store the cv scores for original features and all perturbed features for all 5 folds. \n",
    "    test_score = np.zeros((Xall.shape[1] + 1, 5))\n",
    "    \n",
    "    id = 0\n",
    "    for train_index, test_index in tscv.split(Xall):\n",
    "        # obtain train and test data\n",
    "        X_train = Xall[train_index]\n",
    "        y_train = Yall[train_index]\n",
    "        X_test = Xall[test_index]\n",
    "        y_test = Yall[test_index]     \n",
    "        \n",
    "        # train for data thats not perturbed \n",
    "        clf.fit(X_train, y_train)\n",
    "        # calculate cv score for data thats not perturbed\n",
    "        test_score[0, id] = metrics.roc_auc_score(y_test, clf.predict_proba(X_test)[:,1])\n",
    "        \n",
    "        # calculate cv score for each feature thats perfurbed \n",
    "        for i in range(Xall.shape[1]):\n",
    "            # add a small perturbation delta to the feature\n",
    "            Xtestcopy = X_test.copy()\n",
    "            Xtestcopy[:, i] += delta\n",
    "            # calculate cv score for the perturbed data\n",
    "            test_score[i+1, id] = metrics.roc_auc_score(y_test, clf.predict_proba(Xtestcopy)[:,1])\n",
    "        \n",
    "        id += 1\n",
    "    # return average score for all folds\n",
    "    return test_score.mean(axis=1)\n",
    "\n",
    "delta = 0.01\n",
    "avg_test_score = sensitivity_analysis(ScaledX, Y, grid_obj1.best_estimator_, tscv, delta)\n",
    "print 'change in score with respect to perturbation delta'\n",
    "# avg_test_score[0] is the baseline score without pertubation\n",
    "print (avg_test_score[1:] - avg_test_score[0]) / delta"
   ]
  },
  {
   "cell_type": "markdown",
   "metadata": {},
   "source": [
    "According to the above results, the changes in scores are very small or even zero for perturbations applied to all features, indicating that the model is stable enough for predictions.\n",
    "\n",
    "### Justification\n",
    "There are two set of benchmarks established earlier in the project. The first one is random guessing with auc score of 0.5 and the second set includes previous results using lendingclub data: \n",
    "- Ref [3]: AUC 0.698\n",
    "- Ref [5]: AUC 0.732\n",
    "- Ref [6]: AUC 0.713\n",
    "\n",
    "The result here with auc score 0.707 is much better than random guessing, and similar to previous results. Ref. [5] and [6] give slightly better score. In fact, the best score in Ref. [5] came from a logistic regression model and was better than optimized random forest model. One of the reason contributes to the difference may be that Ref. [5] and [6] used different cross-validation split methods than the forward chaining cross-validation used in this study.  \n",
    "\n",
    "\n",
    "## V. Conclusion \n",
    "\n",
    "### Free-Form Visualization \n",
    "Here I visualize the ROC curve for the final model. The x-axis for the ROC curve is FP (False Positive) rate and the y-axis is TP (True positive) rate. The plot shows that the model prediction is better han random guess, which is the diagonal line running from (0, 0) to (1, 1). The different lines in the plot correspond to the different folds in the cross-validation process."
   ]
  },
  {
   "cell_type": "code",
   "execution_count": 104,
   "metadata": {
    "collapsed": false
   },
   "outputs": [
    {
     "data": {
      "text/plain": [
       "<matplotlib.text.Text at 0x1276476d0>"
      ]
     },
     "execution_count": 104,
     "metadata": {},
     "output_type": "execute_result"
    },
    {
     "data": {
      "image/png": "[encoded data removed]",
      "text/plain": [
       "<matplotlib.figure.Figure at 0x11a8cbe90>"
      ]
     },
     "metadata": {},
     "output_type": "display_data"
    }
   ],
   "source": [
    "# visualize ROC curve for the final model \n",
    "def plot_roc_curve(Xall, Yall, clf, cv=tscv):\n",
    "    styles = ['-k', '-r' ,'.b', '.-y', '--m']\n",
    "    id = 0\n",
    "    for train_index, test_index in tscv.split(Xall):\n",
    "        # obtain train and test data\n",
    "        X_train = Xall[train_index]\n",
    "        y_train = Yall[train_index]\n",
    "        X_test = Xall[test_index]\n",
    "        y_test = Yall[test_index]     \n",
    "        \n",
    "        # train data\n",
    "        clf.fit(X_train, y_train)\n",
    "        # obtain ROC curve data\n",
    "        fpr, tpr, thresholds = metrics.roc_curve(y_test, clf.predict_proba(X_test)[:,1])\n",
    "        # plot ROC curve\n",
    "        plt.plot(fpr, tpr, styles[id])\n",
    "        id += 1\n",
    "        \n",
    "plot_roc_curve(ScaledX, Y, grid_obj1.best_estimator_, tscv)\n",
    "plt.xlabel('FP', fontsize=14)\n",
    "plt.ylabel('TP', fontsize=14)\n",
    "plt.title('ROC plot for all cv folds for the final model', fontsize=14)"
   ]
  },
  {
   "cell_type": "markdown",
   "metadata": {},
   "source": [
    "### Reflection\n",
    "#### Summary of the entire end-to-end problem solution\n",
    "The workflow for this problem is: \n",
    "1. Data cleaning and pre-processing\n",
    "    - handle missing values and columns that have systematic missing values;\n",
    "    - convert categorical variables into numerical variables depends on whether the categorical variables are nominal or not. If they are nominal, use ordered number; and if they are not, use dummy variables; \n",
    "    - convert other relevant variables to numerical ones, for example, convert `earliest_cr_line` which is year, to number of years with credit history;\n",
    "    - remove outliers;\n",
    "    - normalize features;\n",
    "2. Train and optimize classifier\n",
    "    - perform rolling cross validation for time series data;\n",
    "    - compare resampling techniques: no resampling, random under sampling and random over sampling\n",
    "    - compare three classification models: Naive Bayes, Logistic Regression and Ensemble (Random Forest);\n",
    "    - optimize model parameters and find the best model/parameters;\n",
    "3. Compare results with benchmark models\n",
    "\n",
    "#### Reflection on the project\n",
    "Initially I thought the project is easy, since there has been quite a few other efforts available online, see Ref[1-8]. Most of these references performed classification to predict whether a loan defaults; except in Ref. [8] where the goal is not only to predict default as a classification task, but also to predict severity of the loss as a regression task. My initial goal is to use lendingclub data, but go beyond those previous efforts and predict return on investment (ROI). \n",
    "\n",
    "Since there was no previous work on predicting ROI using lendingclub data, my plan was to first perform a classification task to predict default, compare the results with previous models, and move on to work on how to predict ROI. However, it turned out that the classification problem was more challenging than I thought, there are various problems with previous work (detailed in Project Overview Section), and I found out just completing the loan default prediction is worthwhile as a standalone project. \n",
    "\n",
    "Here are the interesting and challenging aspects of the project: \n",
    "- The dataset has over 115 columns, is diverse and non-trivial for data cleaning and preprocessing. One has to read the description of all 115 columns in order to remove columns thats not supposed to be used. This was a mistake made by a few previous work and their results are incorrect and misleading. There are also various ways data is missing, has outliers, and has different ways to be converted to numeric data. I found the data cleaning and pre-processing more challenging and time consuming than I presumed. \n",
    "- The data is a time-series data, thus random or stratified shuffle spliting for training and testing dataset might not be appropriate; however, none of the previous work mentioned the time-series aspect. \n",
    "- The prediction classes are not balanced, with default loan occupying around 20% of all data. However, under and over sampling have neglectable effect on cv scores. \n",
    "- Logistic regression has similar results compared to random forest. This is rather surprising to me. With Kaggle's loan dataset, ensemble methods are reported to be much better than logistic regression and gives auc score over 0.85. In this blogpost (http://blog.nycdatascience.com/student-works/capstone/kaggle-predict-consumer-credit-default/), the authors were able to increase the score for logistic regression using features from non-linear combination of original features. However, these non-linear combination of features are inherently present in ensemble methods and thus feature engineering doesn't improve performance for ensemble methods. In the current case with lendingclub data ( Kaggle has a different dataset), ensemble methods are only slightly better than logistic regression. I tried a number of feature selection/ellimination methods, as well as producing non-linear combination of features, but none of my work has resulted in any significant improvements. \n",
    "\n",
    "The final model and solution doesn't fit my expectation for the problem, and I expect the model to perform better. In a future project, I might work with Kaggle dataset and find out why Kaggle dataset gives better scores. In addition, as I mentioned in Project Overview, best predicting loan default does not neccessarily give best ROI, since it will reject default loans regardless on how much amount is the loss. As a result, one has to solve a different problem in order to optimize ROI. \n",
    "\n",
    "### Improvement\n",
    "One possible improvement to the final auc score is convert additional columns to features. The columns that are currently not used are `zip_code` and `addr_state`. One can use econometric values such as median income of the zip code or state. Another possible improvement is to use text as a vector for columns `title` and `desc`. There are many missing values there, and in this project I only used boolean values to represent them. However I doubt the effectiveness of them compared to features such as `int_rate` and `annual_inc`.\n",
    "\n",
    "Further improvement to the project is to predict ROI, since ROI is what eventually matters. "
   ]
  },
  {
   "cell_type": "markdown",
   "metadata": {
    "collapsed": true
   },
   "source": [
    "-----------\n",
    "\n",
    "### References\n",
    "1. http://cs229.stanford.edu/proj2015/199_report.pdf\n",
    "2. http://blog.yhat.com/posts/machine-learning-for-predicting-bad-loans.html\n",
    "3. https://rpubs.com/torourke97/190551\n",
    "4. https://res.cloudinary.com/general-assembly-profiles/image/upload/v1416535475/uwumoooppttsmpgu1goo.pdf\n",
    "5. http://www.wujiayu.me/assets/projects/loan-default-prediction-Jiayu-Wu.pdf\n",
    "6. https://rstudio-pubs-static.s3.amazonaws.com/203258_d20c1a34bc094151a0a1e4f4180c5f6f.html\n",
    "7. http://kldavenport.com/gradient-boosting-analysis-of-lendingclubs-data/\n",
    "8. https://www.kaggle.com/c/loan-default-prediction\n",
    "9. https://www.kaggle.com/wiki/AreaUnderCurve\n",
    "10. http://stats.stackexchange.com/questions/14099/using-k-fold-cross-validation-for-time-series-model-selection"
   ]
  }
 ],
 "metadata": {
  "kernelspec": {
   "display_name": "Python 2",
   "language": "python",
   "name": "python2"
  },
  "language_info": {
   "codemirror_mode": {
    "name": "ipython",
    "version": 2
   },
   "file_extension": ".py",
   "mimetype": "text/x-python",
   "name": "python",
   "nbconvert_exporter": "python",
   "pygments_lexer": "ipython2",
   "version": "2.7.13"
  }
 },
 "nbformat": 4,
 "nbformat_minor": 0
}
